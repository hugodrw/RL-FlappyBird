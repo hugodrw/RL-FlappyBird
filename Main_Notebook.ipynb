{
 "cells": [
  {
   "cell_type": "code",
   "execution_count": 1,
   "metadata": {},
   "outputs": [
    {
     "name": "stderr",
     "output_type": "stream",
     "text": [
      "/Users/hugoderohanwillner/anaconda3/envs/MSc_RL/lib/python3.9/site-packages/tqdm/auto.py:21: TqdmWarning: IProgress not found. Please update jupyter and ipywidgets. See https://ipywidgets.readthedocs.io/en/stable/user_install.html\n",
      "  from .autonotebook import tqdm as notebook_tqdm\n"
     ]
    }
   ],
   "source": [
    "import os, sys\n",
    "import gymnasium as gym\n",
    "import time\n",
    "\n",
    "import text_flappy_bird_gym\n",
    "from IPython.display import clear_output\n",
    "import numpy as np\n",
    "from collections import defaultdict\n",
    "import wandb\n",
    "from tqdm.auto import tqdm"
   ]
  },
  {
   "cell_type": "code",
   "execution_count": 2,
   "metadata": {},
   "outputs": [],
   "source": [
    "def test_policy(policy=None, fps=1):\n",
    "    '''\n",
    "        Visually evaluate a policy, fallback to random action\n",
    "    '''\n",
    "\n",
    "    # initiate environment\n",
    "    env = gym.make('TextFlappyBird-v0', height = 15, width = 20, pipe_gap = 4)\n",
    "    obs = env.reset()[0]\n",
    "\n",
    "    # iterate\n",
    "    while True:\n",
    "\n",
    "        # Select next action\n",
    "        if policy is None:\n",
    "            # Sample random action if no policy is given\n",
    "            action = env.action_space.sample()  # for an agent, action = agent.policy(observation)\n",
    "        else:\n",
    "            # Check if state is in policy\n",
    "            if obs not in policy:\n",
    "                # If not, sample random action\n",
    "                action = env.action_space.sample()\n",
    "            else:\n",
    "                # Use policy to determine the next action\n",
    "                action = policy[obs]\n",
    "\n",
    "        # Appy action and return new observation of the environment\n",
    "        obs, reward, done, _, info = env.step(action)\n",
    "\n",
    "        # Render the game\n",
    "        clear_output(wait=True)\n",
    "        sys.stdout.write(env.render())\n",
    "        print('Action: ', action)\n",
    "        print('Observation: ', obs)\n",
    "        print('Reward: ', reward)\n",
    "        time.sleep(1/fps) # FPS\n",
    "        \n",
    "\n",
    "        # If player is dead break\n",
    "        if done:\n",
    "            break\n",
    "\n",
    "    env.close()\n"
   ]
  },
  {
   "cell_type": "code",
   "execution_count": 5,
   "metadata": {},
   "outputs": [],
   "source": [
    "# Generate episode data\n",
    "\n",
    "def generate_episode_from_Q(env, Q, epsilon, nA, max_ep_length):\n",
    "    \"\"\" generates an episode from following the epsilon-greedy policy \"\"\"\n",
    "    episode = []\n",
    "    state = env.reset()[0] # fix new version\n",
    "    while True:\n",
    "        action = np.random.choice(np.arange(nA), p=get_probs(Q[state], epsilon, nA)) \\\n",
    "                                    if state in Q else env.action_space.sample()\n",
    "        # take a step in the environement \n",
    "        next_state, reward, done, info, _ = env.step(action)\n",
    "        episode.append((state, action, reward))\n",
    "        state = next_state\n",
    "        if done or len(episode)>max_ep_length:\n",
    "            break\n",
    "    return episode\n",
    "\n",
    "def get_probs(Q_s, epsilon, nA):\n",
    "    \"\"\" obtains the action probabilities corresponding to epsilon-greedy policy \"\"\"\n",
    "    # Each action has an associated probability\n",
    "    # The best action has a probability of 1 - epsilon + (epsilon / nA) - the rest have a probability of epsilon / nA\n",
    "    policy_s = np.ones(nA) * epsilon / nA\n",
    "    best_a = np.argmax(Q_s)\n",
    "    policy_s[best_a] = 1 - epsilon + (epsilon / nA)\n",
    "    return policy_s\n",
    "\n",
    "def update_Q(env, episode, Q, alpha, gamma):\n",
    "    \"\"\" updates the action-value function estimate using the most recent episode \"\"\"\n",
    "    states, actions, rewards = zip(*episode)\n",
    "    # prepare for discounting\n",
    "    discounts = np.array([gamma**i for i in range(len(rewards)+1)])\n",
    "    for i, state in enumerate(states):\n",
    "        old_Q = Q[state][actions[i]]\n",
    "        Q[state][actions[i]] = old_Q + alpha*(sum(rewards[i:]*discounts[:-(1+i)]) - old_Q)\n",
    "    return Q"
   ]
  },
  {
   "cell_type": "code",
   "execution_count": 3,
   "metadata": {},
   "outputs": [],
   "source": [
    "# MC Control Training\n",
    "def mc_control(env, num_episodes, alpha, gamma=1.0, eps_start=1.0, eps_decay=.999, eps_min=0.00, wandb_tracking=False, wandb_sweep = False, max_ep_length = 500):\n",
    "    nA = env.action_space.n\n",
    "    # initialize empty dictionary of arrays\n",
    "    Q = defaultdict(lambda: np.zeros(nA))\n",
    "    epsilon = eps_start\n",
    "    ep_rewards = []\n",
    "    # Login to wandb\n",
    "    if wandb_tracking:\n",
    "        wandb.login()\n",
    "        wandb.init(\n",
    "            project=\"flappy-flappy_mc_sweep\",\n",
    "            config = {\"alpha\": alpha, \"gamma\": gamma, \"eps_start\": eps_start, \"eps_decay\": eps_decay, \"eps_min\": eps_min}\n",
    "        )\n",
    "\n",
    "    # loop over episodes\n",
    "    for i_episode in tqdm(range(1, num_episodes+1)):\n",
    "        # set the value of epsilon\n",
    "        epsilon = max(epsilon*eps_decay, eps_min)\n",
    "        # generate an episode by following epsilon-greedy policy\n",
    "        episode = generate_episode_from_Q(env, Q, epsilon, nA, max_ep_length)\n",
    "        # update the action-value function estimate using the episode\n",
    "        Q = update_Q(env, episode, Q, alpha, gamma)\n",
    "\n",
    "        ep_reward = np.sum([x[2] for x in episode])\n",
    "        ep_rewards.append(ep_reward)\n",
    "        # Log to wandb\n",
    "        if wandb_tracking or wandb_sweep:\n",
    "            wandb.log({\"reward\": ep_reward})\n",
    "\n",
    "    # determine the policy corresponding to the final action-value function estimate\n",
    "    policy = dict((k,np.argmax(v)) for k, v in Q.items())\n",
    "\n",
    "    # Get the mean ep reward\n",
    "    mean_ep_reward = np.mean(ep_rewards)\n",
    "\n",
    "    return policy, Q, mean_ep_reward"
   ]
  },
  {
   "cell_type": "code",
   "execution_count": 41,
   "metadata": {},
   "outputs": [
    {
     "data": {
      "text/plain": [
       "{(13, 1): 1,\n",
       " (12, 1): 0,\n",
       " (11, 0): 1,\n",
       " (10, 1): 1,\n",
       " (9, 0): 0,\n",
       " (8, 1): 1,\n",
       " (7, 0): 1,\n",
       " (6, 1): 1,\n",
       " (5, 0): 1,\n",
       " (4, 1): 1,\n",
       " (3, 4): 1,\n",
       " (2, 3): 1,\n",
       " (1, 2): 1,\n",
       " (13, -5): 1,\n",
       " (12, -6): 1,\n",
       " (11, -5): 0,\n",
       " (10, -6): 1,\n",
       " (9, -7): 0,\n",
       " (8, -8): 1,\n",
       " (7, -7): 0,\n",
       " (6, -4): 1,\n",
       " (5, -5): 1,\n",
       " (4, -4): 1,\n",
       " (3, -1): 0,\n",
       " (2, -2): 0,\n",
       " (1, -3): 0,\n",
       " (13, -2): 0,\n",
       " (12, -3): 1,\n",
       " (11, -2): 1,\n",
       " (13, -4): 1,\n",
       " (12, -5): 1,\n",
       " (11, -6): 1,\n",
       " (10, -7): 1,\n",
       " (9, -6): 1,\n",
       " (8, -7): 1,\n",
       " (7, -8): 1,\n",
       " (6, -9): 1,\n",
       " (5, -10): 1,\n",
       " (4, -11): 1,\n",
       " (3, -11): 0,\n",
       " (2, -11): 1,\n",
       " (1, -10): 1,\n",
       " (13, 2): 0,\n",
       " (12, 2): 1,\n",
       " (11, 4): 1,\n",
       " (10, 3): 1,\n",
       " (9, 2): 1,\n",
       " (6, -1): 1,\n",
       " (4, -1): 1,\n",
       " (3, -2): 1,\n",
       " (2, -3): 0,\n",
       " (1, -2): 0,\n",
       " (9, 4): 1,\n",
       " (8, 3): 0,\n",
       " (7, 4): 1,\n",
       " (6, 3): 0,\n",
       " (5, 2): 0,\n",
       " (4, 3): 0,\n",
       " (3, 2): 1,\n",
       " (1, 6): 1,\n",
       " (13, 4): 1,\n",
       " (12, 3): 1,\n",
       " (11, 2): 0,\n",
       " (9, 6): 1,\n",
       " (8, 5): 1,\n",
       " (5, 4): 1,\n",
       " (4, 7): 1,\n",
       " (13, 3): 0,\n",
       " (11, 1): 0,\n",
       " (10, 2): 1,\n",
       " (9, 5): 1,\n",
       " (8, 10): 1,\n",
       " (7, 9): 1,\n",
       " (6, 10): 1,\n",
       " (7, -9): 1,\n",
       " (6, -8): 1,\n",
       " (4, 0): 1,\n",
       " (10, -2): 0,\n",
       " (9, -3): 1,\n",
       " (8, -2): 1,\n",
       " (7, -3): 1,\n",
       " (6, -2): 0,\n",
       " (5, -3): 1,\n",
       " (4, -2): 1,\n",
       " (3, 1): 1,\n",
       " (2, 0): 1,\n",
       " (1, 1): 1,\n",
       " (10, -3): 1,\n",
       " (9, -4): 0,\n",
       " (8, -5): 0,\n",
       " (7, -6): 1,\n",
       " (6, -7): 1,\n",
       " (5, -8): 1,\n",
       " (4, -7): 0,\n",
       " (3, -8): 0,\n",
       " (2, -7): 0,\n",
       " (1, -8): 0,\n",
       " (10, 0): 1,\n",
       " (9, 1): 1,\n",
       " (8, 4): 1,\n",
       " (7, 3): 1,\n",
       " (6, 4): 1,\n",
       " (5, 3): 0,\n",
       " (4, 2): 1,\n",
       " (2, 2): 1,\n",
       " (0, 0): 0,\n",
       " (8, -4): 1,\n",
       " (7, -5): 0,\n",
       " (2, 4): 1,\n",
       " (13, -3): 1,\n",
       " (12, -4): 1,\n",
       " (8, -6): 0,\n",
       " (6, -6): 1,\n",
       " (9, 8): 1,\n",
       " (8, 11): 1,\n",
       " (7, 10): 1,\n",
       " (6, 11): 1,\n",
       " (5, 10): 1,\n",
       " (4, 11): 1,\n",
       " (12, 4): 1,\n",
       " (11, 6): 1,\n",
       " (10, 5): 1,\n",
       " (7, 6): 1,\n",
       " (6, 9): 1,\n",
       " (5, 8): 1,\n",
       " (3, 6): 1,\n",
       " (2, 7): 1,\n",
       " (10, -5): 0,\n",
       " (9, -2): 0,\n",
       " (11, -3): 1,\n",
       " (9, -1): 1,\n",
       " (7, -1): 1,\n",
       " (6, 2): 1,\n",
       " (5, -9): 0,\n",
       " (4, -8): 1,\n",
       " (3, -5): 1,\n",
       " (6, 5): 1,\n",
       " (5, 6): 1,\n",
       " (4, 5): 1,\n",
       " (2, 5): 1,\n",
       " (2, -4): 0,\n",
       " (1, -5): 0,\n",
       " (7, 2): 1,\n",
       " (3, 0): 1,\n",
       " (2, 1): 0,\n",
       " (1, 0): 1,\n",
       " (0, -1): 0,\n",
       " (1, 3): 0,\n",
       " (10, 7): 1,\n",
       " (5, 9): 1,\n",
       " (4, 10): 1,\n",
       " (3, 9): 1,\n",
       " (2, 10): 1,\n",
       " (12, -2): 0,\n",
       " (10, -1): 1,\n",
       " (2, -1): 0,\n",
       " (8, 2): 0,\n",
       " (7, 1): 1,\n",
       " (5, 1): 1,\n",
       " (6, 0): 1,\n",
       " (4, 4): 1,\n",
       " (10, -4): 0,\n",
       " (8, 0): 0,\n",
       " (13, 0): 1,\n",
       " (12, 0): 1,\n",
       " (11, -1): 0,\n",
       " (5, -1): 1,\n",
       " (3, 8): 1,\n",
       " (1, 8): 0,\n",
       " (8, -1): 0,\n",
       " (8, -3): 0,\n",
       " (7, -4): 0,\n",
       " (6, -5): 0,\n",
       " (5, -6): 1,\n",
       " (9, 3): 1,\n",
       " (8, 8): 1,\n",
       " (7, 7): 1,\n",
       " (6, 6): 1,\n",
       " (5, 5): 1,\n",
       " (3, 3): 1,\n",
       " (1, 7): 1,\n",
       " (12, -1): 0,\n",
       " (6, -3): 0,\n",
       " (5, -4): 0,\n",
       " (4, -5): 0,\n",
       " (3, -6): 0,\n",
       " (2, -5): 0,\n",
       " (11, 3): 0,\n",
       " (10, 4): 1,\n",
       " (9, 7): 1,\n",
       " (8, 6): 1,\n",
       " (4, 6): 1,\n",
       " (3, 5): 1,\n",
       " (2, 6): 1,\n",
       " (1, 9): 0,\n",
       " (6, 8): 1,\n",
       " (5, 7): 1,\n",
       " (4, 8): 1,\n",
       " (3, 7): 1,\n",
       " (2, 8): 1,\n",
       " (4, -3): 1,\n",
       " (3, -3): 0,\n",
       " (0, -2): 1,\n",
       " (9, -8): 1,\n",
       " (0, 1): 1,\n",
       " (9, -5): 0,\n",
       " (4, -9): 1,\n",
       " (3, -10): 0,\n",
       " (1, -11): 0,\n",
       " (5, -7): 0,\n",
       " (3, -9): 0,\n",
       " (2, -8): 0,\n",
       " (1, -9): 1,\n",
       " (11, -4): 1,\n",
       " (3, -4): 0,\n",
       " (7, 5): 1,\n",
       " (1, -4): 0,\n",
       " (1, 4): 1,\n",
       " (11, 5): 1,\n",
       " (1, -1): 1,\n",
       " (10, 10): 1,\n",
       " (10, 6): 1,\n",
       " (13, -1): 0,\n",
       " (1, -6): 0,\n",
       " (4, -6): 0,\n",
       " (4, 9): 1,\n",
       " (7, -2): 0,\n",
       " (5, -2): 1,\n",
       " (1, 5): 1,\n",
       " (3, -7): 0,\n",
       " (1, -7): 0,\n",
       " (2, 9): 0,\n",
       " (2, -9): 0,\n",
       " (8, 9): 1,\n",
       " (7, 8): 1,\n",
       " (2, 11): 1,\n",
       " (8, 7): 1,\n",
       " (6, 7): 1,\n",
       " (3, 10): 1,\n",
       " (9, -10): 1,\n",
       " (8, -11): 0,\n",
       " (7, -11): 0,\n",
       " (6, -10): 1,\n",
       " (5, -11): 0,\n",
       " (4, -10): 0,\n",
       " (2, -6): 0,\n",
       " (1, 10): 1,\n",
       " (2, -12): 1,\n",
       " (9, 9): 1,\n",
       " (11, -7): 1,\n",
       " (10, -8): 1,\n",
       " (10, 9): 1,\n",
       " (5, 11): 1,\n",
       " (9, 10): 1,\n",
       " (9, -9): 0,\n",
       " (8, -10): 1,\n",
       " (6, -12): 0,\n",
       " (5, -12): 1,\n",
       " (4, -12): 1,\n",
       " (3, -12): 0,\n",
       " (10, 8): 1,\n",
       " (8, -9): 1,\n",
       " (7, -10): 0,\n",
       " (6, -11): 0,\n",
       " (9, -12): 1,\n",
       " (8, -12): 0,\n",
       " (2, -10): 0,\n",
       " (1, -12): 0,\n",
       " (3, 11): 1,\n",
       " (1, 11): 0,\n",
       " (9, -11): 0,\n",
       " (7, 11): 0,\n",
       " (9, 11): 1,\n",
       " (7, -12): 1}"
      ]
     },
     "execution_count": 41,
     "metadata": {},
     "output_type": "execute_result"
    }
   ],
   "source": [
    "policy"
   ]
  },
  {
   "cell_type": "code",
   "execution_count": 5,
   "metadata": {},
   "outputs": [
    {
     "name": "stderr",
     "output_type": "stream",
     "text": [
      "100%|██████████| 100/100 [00:00<00:00, 2170.09it/s]\n"
     ]
    }
   ],
   "source": [
    "# obtain the estimated optimal policy and action-value function\n",
    "env = gym.make('TextFlappyBird-v0', height = 15, width = 20, pipe_gap = 4)\n",
    "obs = env.reset()\n",
    "\n",
    "policy, Q, mean_ep_reward = mc_control(env, 100, 0.02, wandb_tracking=False)"
   ]
  },
  {
   "cell_type": "code",
   "execution_count": 6,
   "metadata": {},
   "outputs": [
    {
     "data": {
      "text/plain": [
       "11.75"
      ]
     },
     "execution_count": 6,
     "metadata": {},
     "output_type": "execute_result"
    }
   ],
   "source": [
    "mean_ep_reward"
   ]
  },
  {
   "cell_type": "code",
   "execution_count": 60,
   "metadata": {},
   "outputs": [],
   "source": [
    "# save the policy to the current directory\n",
    "np.save('MC_policy_500_max.npy', policy)"
   ]
  },
  {
   "cell_type": "code",
   "execution_count": 61,
   "metadata": {},
   "outputs": [
    {
     "name": "stdout",
     "output_type": "stream",
     "text": [
      "Text Flappy Bird!\n",
      "Score: 103\n",
      "----------------------\n",
      "[   \u001b[32m|\u001b[0m         \u001b[32m|\u001b[0m      ]\n",
      "[   \u001b[32m|\u001b[0m         \u001b[32m|\u001b[0m      ]\n",
      "[   \u001b[32m|\u001b[0m         \u001b[32m|\u001b[0m      ]\n",
      "[   \u001b[32m|\u001b[0m         \u001b[32m|\u001b[0m      ]\n",
      "[   \u001b[32m|\u001b[0m         \u001b[32m|\u001b[0m      ]\n",
      "[   \u001b[32m|\u001b[0m         \u001b[32m|\u001b[0m      ]\n",
      "[   \u001b[32m|\u001b[0m  \u001b[33m@\u001b[0m             ]\n",
      "[   \u001b[32m|\u001b[0m                ]\n",
      "[                    ]\n",
      "[                    ]\n",
      "[             \u001b[32m|\u001b[0m      ]\n",
      "[             \u001b[32m|\u001b[0m      ]\n",
      "[   \u001b[32m|\u001b[0m         \u001b[32m|\u001b[0m      ]\n",
      "[   \u001b[32m|\u001b[0m         \u001b[32m|\u001b[0m      ]\n",
      "[   \u001b[32m|\u001b[0m         \u001b[32m|\u001b[0m      ]\n",
      "^^^^^^^^^^^^^^^^^^^^^^\n",
      "Player Action (Flap)\n",
      "Distance From Pipe (dx=7,dy=-2)\n",
      "Action:  1\n",
      "Observation:  (7, -2)\n",
      "Reward:  1\n"
     ]
    },
    {
     "ename": "KeyboardInterrupt",
     "evalue": "",
     "output_type": "error",
     "traceback": [
      "\u001b[0;31m---------------------------------------------------------------------------\u001b[0m",
      "\u001b[0;31mKeyboardInterrupt\u001b[0m                         Traceback (most recent call last)",
      "Cell \u001b[0;32mIn[61], line 5\u001b[0m\n\u001b[1;32m      2\u001b[0m new_policy \u001b[38;5;241m=\u001b[39m np\u001b[38;5;241m.\u001b[39mload(\u001b[38;5;124m'\u001b[39m\u001b[38;5;124mMC_policy_500_max.npy\u001b[39m\u001b[38;5;124m'\u001b[39m, allow_pickle\u001b[38;5;241m=\u001b[39m\u001b[38;5;28;01mTrue\u001b[39;00m)\u001b[38;5;241m.\u001b[39mitem()\n\u001b[1;32m      4\u001b[0m \u001b[38;5;66;03m# Test the policy\u001b[39;00m\n\u001b[0;32m----> 5\u001b[0m \u001b[43mtest_policy\u001b[49m\u001b[43m(\u001b[49m\u001b[43mpolicy\u001b[49m\u001b[38;5;241;43m=\u001b[39;49m\u001b[43mnew_policy\u001b[49m\u001b[43m,\u001b[49m\u001b[43mfps\u001b[49m\u001b[38;5;241;43m=\u001b[39;49m\u001b[38;5;241;43m20\u001b[39;49m\u001b[43m)\u001b[49m\n",
      "Cell \u001b[0;32mIn[46], line 35\u001b[0m, in \u001b[0;36mtest_policy\u001b[0;34m(policy, fps)\u001b[0m\n\u001b[1;32m     33\u001b[0m \u001b[38;5;28mprint\u001b[39m(\u001b[38;5;124m'\u001b[39m\u001b[38;5;124mObservation: \u001b[39m\u001b[38;5;124m'\u001b[39m, obs)\n\u001b[1;32m     34\u001b[0m \u001b[38;5;28mprint\u001b[39m(\u001b[38;5;124m'\u001b[39m\u001b[38;5;124mReward: \u001b[39m\u001b[38;5;124m'\u001b[39m, reward)\n\u001b[0;32m---> 35\u001b[0m \u001b[43mtime\u001b[49m\u001b[38;5;241;43m.\u001b[39;49m\u001b[43msleep\u001b[49m\u001b[43m(\u001b[49m\u001b[38;5;241;43m1\u001b[39;49m\u001b[38;5;241;43m/\u001b[39;49m\u001b[43mfps\u001b[49m\u001b[43m)\u001b[49m \u001b[38;5;66;03m# FPS\u001b[39;00m\n\u001b[1;32m     38\u001b[0m \u001b[38;5;66;03m# If player is dead break\u001b[39;00m\n\u001b[1;32m     39\u001b[0m \u001b[38;5;28;01mif\u001b[39;00m done:\n",
      "\u001b[0;31mKeyboardInterrupt\u001b[0m: "
     ]
    }
   ],
   "source": [
    "# Load the policy\n",
    "new_policy = np.load('MC_policy_500_max.npy', allow_pickle=True).item()\n",
    "\n",
    "# Test the policy\n",
    "test_policy(policy=new_policy,fps=20)"
   ]
  },
  {
   "cell_type": "code",
   "execution_count": 18,
   "metadata": {},
   "outputs": [],
   "source": [
    "# obtain the corresponding state-value function\n",
    "V = dict((k,np.max(v)) for k, v in Q.items()) # use the max value of the action-value function since it is the optimal policy\n"
   ]
  },
  {
   "cell_type": "code",
   "execution_count": 32,
   "metadata": {},
   "outputs": [
    {
     "data": {
      "image/png": "[encoded data removed]",
      "text/plain": [
       "<Figure size 2000x2000 with 1 Axes>"
      ]
     },
     "metadata": {},
     "output_type": "display_data"
    },
    {
     "data": {
      "image/png": "[encoded data removed]",
      "text/plain": [
       "<Figure size 2000x2000 with 1 Axes>"
      ]
     },
     "metadata": {},
     "output_type": "display_data"
    }
   ],
   "source": [
    "import numpy as np\n",
    "from mpl_toolkits.mplot3d import Axes3D\n",
    "import matplotlib.pyplot as plt\n",
    "from mpl_toolkits.axes_grid1 import make_axes_locatable\n",
    "\n",
    "def plot_flappy_values(V):\n",
    "\n",
    "    def get_Z(x, y):\n",
    "        if (x,y) in V:\n",
    "            return V[x,y]\n",
    "        else:\n",
    "            return 0\n",
    "\n",
    "    def get_figure(ax,top_view=False):\n",
    "        x_range = np.arange(0, 9)\n",
    "        y_range = np.arange(-15, 15)\n",
    "        X, Y = np.meshgrid(x_range, y_range)\n",
    "        \n",
    "        Z = np.array([get_Z(x,y) for x,y in zip(np.ravel(X), np.ravel(Y))]).reshape(X.shape)\n",
    "\n",
    "        surf = ax.plot_surface(X, Y, Z, rstride=1, cstride=1, cmap=plt.cm.coolwarm, vmin=-1.0, vmax=70)\n",
    "        ax.set_xlabel('X distance to center of pipe')\n",
    "        ax.set_ylabel('Y distance to center of pipe')\n",
    "        ax.set_zlabel('State Value')\n",
    "        if top_view:\n",
    "            ax.view_init(90,180)\n",
    "        else:\n",
    "            ax.view_init(ax.elev, -120)\n",
    "\n",
    "    fig = plt.figure(figsize=(20, 20))\n",
    "    ax = fig.add_subplot(211, projection='3d')\n",
    "    ax.set_title('State Value Function')\n",
    "    get_figure(ax, top_view=True)\n",
    "\n",
    "    fig = plt.figure(figsize=(20, 20))\n",
    "    ax = fig.add_subplot(211, projection='3d')\n",
    "    ax.set_title('State Value Function')\n",
    "    get_figure(ax, top_view=False)\n",
    "\n",
    "    plt.show()\n",
    "\n",
    "plot_flappy_values(V)"
   ]
  },
  {
   "cell_type": "code",
   "execution_count": 2,
   "metadata": {},
   "outputs": [],
   "source": [
    "# SARSA LAMBDA TRAINING\n",
    "def sarsa_lambda_train(env, num_episodes, alpha, lambda_, gamma=1.0, eps_start=1.0, eps_decay=.9999, eps_min=0.05, wandb_tracking=False, wandb_sweep=False,  max_ep_length = 500):\n",
    "    nA = env.action_space.n # number of actions\n",
    "    # Init Q Table\n",
    "    Q = defaultdict(lambda: np.zeros(nA))\n",
    "    epsilon = eps_start\n",
    "    ep_rewards = []\n",
    "    # Login to wandb\n",
    "    if wandb_tracking:\n",
    "        wandb.login()\n",
    "        wandb.init(\n",
    "            project=\"flappy-bird_rl\",\n",
    "            config = {\"sarsa_lambda\": True, \"lambda\": lambda_,\"alpha\": alpha, \"gamma\": gamma, \"eps_start\": eps_start, \"eps_decay\": eps_decay, \"eps_min\": eps_min}\n",
    "        )\n",
    "\n",
    "    # loop over episodes\n",
    "    for i_episode in tqdm(range(1, num_episodes+1)):\n",
    "        \n",
    "        # Reset traces! \n",
    "        # https://stackoverflow.com/questions/29904270/eligibility-trace-reinitialization-between-episodes-in-sarsa-lambda-implementati\n",
    "        E = defaultdict(lambda: np.zeros(nA))\n",
    "        # set the value of epsilon\n",
    "        epsilon = max(epsilon*eps_decay, eps_min)\n",
    "        # reset the state\n",
    "        state = env.reset()[0] # fix new version\n",
    "        ep_reward = 0\n",
    "        # Get the first action using eps greedy policy\n",
    "        action = np.random.choice(np.arange(nA), p=get_probs(Q[state], epsilon, nA)) \\\n",
    "                                    if state in Q else env.action_space.sample()\n",
    "        # Go through an episode\n",
    "        while True:\n",
    "            # take a step in the environement \n",
    "            next_state, reward, done, info, _ = env.step(action)\n",
    "            # Eps-greedy next_action\n",
    "            next_action = np.random.choice(np.arange(nA), p=get_probs(Q[next_state], epsilon, nA)) \\\n",
    "                                    if state in Q else env.action_space.sample()\n",
    "\n",
    "            # Calculate TD error\n",
    "            delta = reward + gamma*Q[next_state][next_action] - Q[state][action]\n",
    "            # Increase the trace weight for this state action pair\n",
    "            E[state][action] += 1\n",
    "            # Loop through all s,a\n",
    "            # TODO: only loop through items where traces are not zero?\n",
    "            for state, _ in Q.items():\n",
    "                for action in range(nA):\n",
    "                    # Update all Qs related to the current Q using traces\n",
    "                    Q[state][action] += alpha*delta*E[state][action]\n",
    "                    # Decay the traces at each step\n",
    "                    # TODO: could do this on the whole matrix outside the loop?\n",
    "                    E[state][action] *= gamma*lambda_\n",
    "            # Setup for next loop\n",
    "            state = next_state\n",
    "            action = next_action\n",
    "            ep_reward += reward\n",
    "            # Using ep reward as a break condition\n",
    "            if done or ep_reward>max_ep_length:\n",
    "                break\n",
    "        \n",
    "        # Add the reward to the list\n",
    "        ep_rewards.append(ep_reward)\n",
    "        # Log to wandb\n",
    "        if wandb_tracking or wandb_sweep:\n",
    "            wandb.log({\"reward\": ep_reward})\n",
    "\n",
    "    # determine the policy corresponding to the final action-value function estimate\n",
    "    policy = dict((k,np.argmax(v)) for k, v in Q.items())\n",
    "\n",
    "    # Get the mean ep reward\n",
    "    mean_ep_reward = np.mean(ep_rewards)\n",
    "\n",
    "    return policy, Q, mean_ep_reward"
   ]
  },
  {
   "cell_type": "code",
   "execution_count": 15,
   "metadata": {},
   "outputs": [
    {
     "name": "stderr",
     "output_type": "stream",
     "text": [
      "\u001b[34m\u001b[1mwandb\u001b[0m: \u001b[33mWARNING\u001b[0m Calling wandb.login() after wandb.init() has no effect.\n"
     ]
    },
    {
     "data": {
      "text/html": [
       "Changes to your `wandb` environment variables will be ignored because your `wandb` session has already started. For more information on how to modify your settings with `wandb.init()` arguments, please refer to <a href='https://wandb.me/wandb-init' target=\"_blank\">the W&B docs</a>."
      ],
      "text/plain": [
       "<IPython.core.display.HTML object>"
      ]
     },
     "metadata": {},
     "output_type": "display_data"
    },
    {
     "name": "stderr",
     "output_type": "stream",
     "text": [
      "\u001b[34m\u001b[1mwandb\u001b[0m: \u001b[33mWARNING\u001b[0m Ignored wandb.init() arg project when running a sweep.\n"
     ]
    },
    {
     "data": {
      "text/html": [
       "Finishing last run (ID:0vpjdhkr) before initializing another..."
      ],
      "text/plain": [
       "<IPython.core.display.HTML object>"
      ]
     },
     "metadata": {},
     "output_type": "display_data"
    },
    {
     "data": {
      "text/html": [
       "<style>\n",
       "    table.wandb td:nth-child(1) { padding: 0 10px; text-align: left ; width: auto;} td:nth-child(2) {text-align: left ; width: 100%}\n",
       "    .wandb-row { display: flex; flex-direction: row; flex-wrap: wrap; justify-content: flex-start; width: 100% }\n",
       "    .wandb-col { display: flex; flex-direction: column; flex-basis: 100%; flex: 1; padding: 10px; }\n",
       "    </style>\n",
       "<div class=\"wandb-row\"><div class=\"wandb-col\"><h3>Run history:</h3><br/><table class=\"wandb\"><tr><td>reward</td><td>▁▁▁▁▁▁▁▁▁▁▁▁▁▁▁▁▁▂▁▂▁▂▄▂▁▁▃▁▁▂▂▁▂▁▃█▂▁█▃</td></tr></table><br/></div><div class=\"wandb-col\"><h3>Run summary:</h3><br/><table class=\"wandb\"><tr><td>reward</td><td>214</td></tr></table><br/></div></div>"
      ],
      "text/plain": [
       "<IPython.core.display.HTML object>"
      ]
     },
     "metadata": {},
     "output_type": "display_data"
    },
    {
     "data": {
      "text/html": [
       " View run <strong style=\"color:#cdcd00\">pretty-sweep-10</strong> at: <a href='https://wandb.ai/hugoderohanwillner/flappy_mc_sweep_v3/runs/0vpjdhkr' target=\"_blank\">https://wandb.ai/hugoderohanwillner/flappy_mc_sweep_v3/runs/0vpjdhkr</a><br/>Synced 6 W&B file(s), 0 media file(s), 0 artifact file(s) and 0 other file(s)"
      ],
      "text/plain": [
       "<IPython.core.display.HTML object>"
      ]
     },
     "metadata": {},
     "output_type": "display_data"
    },
    {
     "data": {
      "text/html": [
       "Find logs at: <code>./wandb/run-20240412_162941-0vpjdhkr/logs</code>"
      ],
      "text/plain": [
       "<IPython.core.display.HTML object>"
      ]
     },
     "metadata": {},
     "output_type": "display_data"
    },
    {
     "data": {
      "text/html": [
       "Successfully finished last run (ID:0vpjdhkr). Initializing new run:<br/>"
      ],
      "text/plain": [
       "<IPython.core.display.HTML object>"
      ]
     },
     "metadata": {},
     "output_type": "display_data"
    },
    {
     "data": {
      "text/html": [
       "wandb version 0.16.6 is available!  To upgrade, please run:\n",
       " $ pip install wandb --upgrade"
      ],
      "text/plain": [
       "<IPython.core.display.HTML object>"
      ]
     },
     "metadata": {},
     "output_type": "display_data"
    },
    {
     "data": {
      "text/html": [
       "Tracking run with wandb version 0.16.4"
      ],
      "text/plain": [
       "<IPython.core.display.HTML object>"
      ]
     },
     "metadata": {},
     "output_type": "display_data"
    },
    {
     "data": {
      "text/html": [
       "Run data is saved locally in <code>/Users/hugoderohanwillner/Documents/MSc AI/S2 Courses/RL/Personal Project/wandb/run-20240412_163607-0vpjdhkr</code>"
      ],
      "text/plain": [
       "<IPython.core.display.HTML object>"
      ]
     },
     "metadata": {},
     "output_type": "display_data"
    },
    {
     "data": {
      "text/html": [
       "Syncing run <strong><a href='https://wandb.ai/hugoderohanwillner/flappy_mc_sweep_v3/runs/0vpjdhkr' target=\"_blank\">pretty-sweep-10</a></strong> to <a href='https://wandb.ai/hugoderohanwillner/flappy_mc_sweep_v3' target=\"_blank\">Weights & Biases</a> (<a href='https://wandb.me/run' target=\"_blank\">docs</a>)<br/>Sweep page: <a href='https://wandb.ai/hugoderohanwillner/flappy_mc_sweep_v3/sweeps/whool4g0' target=\"_blank\">https://wandb.ai/hugoderohanwillner/flappy_mc_sweep_v3/sweeps/whool4g0</a>"
      ],
      "text/plain": [
       "<IPython.core.display.HTML object>"
      ]
     },
     "metadata": {},
     "output_type": "display_data"
    },
    {
     "data": {
      "text/html": [
       " View project at <a href='https://wandb.ai/hugoderohanwillner/flappy_mc_sweep_v3' target=\"_blank\">https://wandb.ai/hugoderohanwillner/flappy_mc_sweep_v3</a>"
      ],
      "text/plain": [
       "<IPython.core.display.HTML object>"
      ]
     },
     "metadata": {},
     "output_type": "display_data"
    },
    {
     "data": {
      "text/html": [
       " View sweep at <a href='https://wandb.ai/hugoderohanwillner/flappy_mc_sweep_v3/sweeps/whool4g0' target=\"_blank\">https://wandb.ai/hugoderohanwillner/flappy_mc_sweep_v3/sweeps/whool4g0</a>"
      ],
      "text/plain": [
       "<IPython.core.display.HTML object>"
      ]
     },
     "metadata": {},
     "output_type": "display_data"
    },
    {
     "data": {
      "text/html": [
       " View run at <a href='https://wandb.ai/hugoderohanwillner/flappy_mc_sweep_v3/runs/0vpjdhkr' target=\"_blank\">https://wandb.ai/hugoderohanwillner/flappy_mc_sweep_v3/runs/0vpjdhkr</a>"
      ],
      "text/plain": [
       "<IPython.core.display.HTML object>"
      ]
     },
     "metadata": {},
     "output_type": "display_data"
    },
    {
     "name": "stderr",
     "output_type": "stream",
     "text": [
      "100%|██████████| 5000/5000 [00:25<00:00, 194.08it/s]\n"
     ]
    }
   ],
   "source": [
    "# obtain the estimated optimal policy and action-value function\n",
    "env = gym.make('TextFlappyBird-v0', height = 15, width = 20, pipe_gap = 4)\n",
    "obs = env.reset()\n",
    "\n",
    "sara_policy, Q, mean_ep_reward = sarsa_lambda_train(env, 5000, 0.02,0.5,wandb_tracking=True)"
   ]
  },
  {
   "cell_type": "code",
   "execution_count": 49,
   "metadata": {},
   "outputs": [
    {
     "data": {
      "image/png": "[encoded data removed]",
      "text/plain": [
       "<Figure size 2000x2000 with 1 Axes>"
      ]
     },
     "metadata": {},
     "output_type": "display_data"
    },
    {
     "data": {
      "image/png": "[encoded data removed]",
      "text/plain": [
       "<Figure size 2000x2000 with 1 Axes>"
      ]
     },
     "metadata": {},
     "output_type": "display_data"
    },
    {
     "name": "stderr",
     "output_type": "stream",
     "text": [
      "wandb: Network error (ConnectionError), entering retry loop.\n"
     ]
    }
   ],
   "source": [
    "# obtain the corresponding state-value function\n",
    "V = dict((k,np.max(v)) for k, v in Q.items()) # use the max value of the action-value function since it is the optimal policy\n",
    "\n",
    "import numpy as np\n",
    "from mpl_toolkits.mplot3d import Axes3D\n",
    "import matplotlib.pyplot as plt\n",
    "from mpl_toolkits.axes_grid1 import make_axes_locatable\n",
    "\n",
    "def plot_flappy_values(V):\n",
    "\n",
    "    def get_Z(x, y):\n",
    "        if (x,y) in V:\n",
    "            return V[x,y]\n",
    "        else:\n",
    "            return 0\n",
    "\n",
    "    def get_figure(ax,top_view=False):\n",
    "        x_range = np.arange(0, 9)\n",
    "        y_range = np.arange(-15, 15)\n",
    "        X, Y = np.meshgrid(x_range, y_range)\n",
    "        \n",
    "        Z = np.array([get_Z(x,y) for x,y in zip(np.ravel(X), np.ravel(Y))]).reshape(X.shape)\n",
    "\n",
    "        surf = ax.plot_surface(X, Y, Z, rstride=1, cstride=1, cmap=plt.cm.coolwarm, vmin=-1.0, vmax=70)\n",
    "        ax.set_xlabel('X distance to center of pipe')\n",
    "        ax.set_ylabel('Y distance to center of pipe')\n",
    "        ax.set_zlabel('State Value')\n",
    "        if top_view:\n",
    "            ax.view_init(90,180)\n",
    "        else:\n",
    "            ax.view_init(ax.elev, -120)\n",
    "\n",
    "    fig = plt.figure(figsize=(20, 20))\n",
    "    ax = fig.add_subplot(211, projection='3d')\n",
    "    ax.set_title('State Value Function')\n",
    "    get_figure(ax, top_view=True)\n",
    "\n",
    "    fig = plt.figure(figsize=(20, 20))\n",
    "    ax = fig.add_subplot(211, projection='3d')\n",
    "    ax.set_title('State Value Function')\n",
    "    get_figure(ax, top_view=False)\n",
    "\n",
    "    plt.show()\n",
    "\n",
    "plot_flappy_values(V)"
   ]
  },
  {
   "cell_type": "code",
   "execution_count": 8,
   "metadata": {},
   "outputs": [
    {
     "name": "stdout",
     "output_type": "stream",
     "text": [
      "Create sweep with ID: whool4g0\n",
      "Sweep URL: https://wandb.ai/hugoderohanwillner/flappy_mc_sweep_v3/sweeps/whool4g0\n"
     ]
    },
    {
     "name": "stderr",
     "output_type": "stream",
     "text": [
      "\u001b[34m\u001b[1mwandb\u001b[0m: Agent Starting Run: l82xr3kw with config:\n",
      "\u001b[34m\u001b[1mwandb\u001b[0m: \talpha: 0.0956034315761124\n",
      "\u001b[34m\u001b[1mwandb\u001b[0m: \teps_decay: 0.99\n",
      "\u001b[34m\u001b[1mwandb\u001b[0m: \teps_start: 0.5\n",
      "Failed to detect the name of this notebook, you can set it manually with the WANDB_NOTEBOOK_NAME environment variable to enable code saving.\n",
      "\u001b[34m\u001b[1mwandb\u001b[0m: \u001b[33mWARNING\u001b[0m Ignored wandb.init() arg project when running a sweep.\n"
     ]
    },
    {
     "data": {
      "text/html": [
       "wandb version 0.16.6 is available!  To upgrade, please run:\n",
       " $ pip install wandb --upgrade"
      ],
      "text/plain": [
       "<IPython.core.display.HTML object>"
      ]
     },
     "metadata": {},
     "output_type": "display_data"
    },
    {
     "data": {
      "text/html": [
       "Tracking run with wandb version 0.16.4"
      ],
      "text/plain": [
       "<IPython.core.display.HTML object>"
      ]
     },
     "metadata": {},
     "output_type": "display_data"
    },
    {
     "data": {
      "text/html": [
       "Run data is saved locally in <code>/Users/hugoderohanwillner/Documents/MSc AI/S2 Courses/RL/Personal Project/wandb/run-20240412_150432-l82xr3kw</code>"
      ],
      "text/plain": [
       "<IPython.core.display.HTML object>"
      ]
     },
     "metadata": {},
     "output_type": "display_data"
    },
    {
     "data": {
      "text/html": [
       "Syncing run <strong><a href='https://wandb.ai/hugoderohanwillner/flappy_mc_sweep_v3/runs/l82xr3kw' target=\"_blank\">ethereal-sweep-1</a></strong> to <a href='https://wandb.ai/hugoderohanwillner/flappy_mc_sweep_v3' target=\"_blank\">Weights & Biases</a> (<a href='https://wandb.me/run' target=\"_blank\">docs</a>)<br/>Sweep page: <a href='https://wandb.ai/hugoderohanwillner/flappy_mc_sweep_v3/sweeps/whool4g0' target=\"_blank\">https://wandb.ai/hugoderohanwillner/flappy_mc_sweep_v3/sweeps/whool4g0</a>"
      ],
      "text/plain": [
       "<IPython.core.display.HTML object>"
      ]
     },
     "metadata": {},
     "output_type": "display_data"
    },
    {
     "data": {
      "text/html": [
       " View project at <a href='https://wandb.ai/hugoderohanwillner/flappy_mc_sweep_v3' target=\"_blank\">https://wandb.ai/hugoderohanwillner/flappy_mc_sweep_v3</a>"
      ],
      "text/plain": [
       "<IPython.core.display.HTML object>"
      ]
     },
     "metadata": {},
     "output_type": "display_data"
    },
    {
     "data": {
      "text/html": [
       " View sweep at <a href='https://wandb.ai/hugoderohanwillner/flappy_mc_sweep_v3/sweeps/whool4g0' target=\"_blank\">https://wandb.ai/hugoderohanwillner/flappy_mc_sweep_v3/sweeps/whool4g0</a>"
      ],
      "text/plain": [
       "<IPython.core.display.HTML object>"
      ]
     },
     "metadata": {},
     "output_type": "display_data"
    },
    {
     "data": {
      "text/html": [
       " View run at <a href='https://wandb.ai/hugoderohanwillner/flappy_mc_sweep_v3/runs/l82xr3kw' target=\"_blank\">https://wandb.ai/hugoderohanwillner/flappy_mc_sweep_v3/runs/l82xr3kw</a>"
      ],
      "text/plain": [
       "<IPython.core.display.HTML object>"
      ]
     },
     "metadata": {},
     "output_type": "display_data"
    },
    {
     "name": "stderr",
     "output_type": "stream",
     "text": [
      "100%|██████████| 8000/8000 [01:57<00:00, 68.35it/s] \n"
     ]
    },
    {
     "data": {
      "text/html": [
       "<style>\n",
       "    table.wandb td:nth-child(1) { padding: 0 10px; text-align: left ; width: auto;} td:nth-child(2) {text-align: left ; width: 100%}\n",
       "    .wandb-row { display: flex; flex-direction: row; flex-wrap: wrap; justify-content: flex-start; width: 100% }\n",
       "    .wandb-col { display: flex; flex-direction: column; flex-basis: 100%; flex: 1; padding: 10px; }\n",
       "    </style>\n",
       "<div class=\"wandb-row\"><div class=\"wandb-col\"><h3>Run history:</h3><br/><table class=\"wandb\"><tr><td>mean_ep_reward</td><td>▁</td></tr><tr><td>reward</td><td>▁▂▁▆▆██▆▃█▇█▄▄███████▄██▇███▁██▆▄▅████▅█</td></tr></table><br/></div><div class=\"wandb-col\"><h3>Run summary:</h3><br/><table class=\"wandb\"><tr><td>mean_ep_reward</td><td>403.13862</td></tr><tr><td>reward</td><td>501</td></tr></table><br/></div></div>"
      ],
      "text/plain": [
       "<IPython.core.display.HTML object>"
      ]
     },
     "metadata": {},
     "output_type": "display_data"
    },
    {
     "data": {
      "text/html": [
       " View run <strong style=\"color:#cdcd00\">ethereal-sweep-1</strong> at: <a href='https://wandb.ai/hugoderohanwillner/flappy_mc_sweep_v3/runs/l82xr3kw' target=\"_blank\">https://wandb.ai/hugoderohanwillner/flappy_mc_sweep_v3/runs/l82xr3kw</a><br/>Synced 6 W&B file(s), 0 media file(s), 0 artifact file(s) and 0 other file(s)"
      ],
      "text/plain": [
       "<IPython.core.display.HTML object>"
      ]
     },
     "metadata": {},
     "output_type": "display_data"
    },
    {
     "data": {
      "text/html": [
       "Find logs at: <code>./wandb/run-20240412_150432-l82xr3kw/logs</code>"
      ],
      "text/plain": [
       "<IPython.core.display.HTML object>"
      ]
     },
     "metadata": {},
     "output_type": "display_data"
    },
    {
     "name": "stderr",
     "output_type": "stream",
     "text": [
      "\u001b[34m\u001b[1mwandb\u001b[0m: Sweep Agent: Waiting for job.\n",
      "\u001b[34m\u001b[1mwandb\u001b[0m: Job received.\n",
      "\u001b[34m\u001b[1mwandb\u001b[0m: Agent Starting Run: 8uh1ik4t with config:\n",
      "\u001b[34m\u001b[1mwandb\u001b[0m: \talpha: 0.006968590623289223\n",
      "\u001b[34m\u001b[1mwandb\u001b[0m: \teps_decay: 0.9\n",
      "\u001b[34m\u001b[1mwandb\u001b[0m: \teps_start: 0.75\n",
      "Failed to detect the name of this notebook, you can set it manually with the WANDB_NOTEBOOK_NAME environment variable to enable code saving.\n",
      "\u001b[34m\u001b[1mwandb\u001b[0m: \u001b[33mWARNING\u001b[0m Ignored wandb.init() arg project when running a sweep.\n"
     ]
    },
    {
     "data": {
      "text/html": [
       "wandb version 0.16.6 is available!  To upgrade, please run:\n",
       " $ pip install wandb --upgrade"
      ],
      "text/plain": [
       "<IPython.core.display.HTML object>"
      ]
     },
     "metadata": {},
     "output_type": "display_data"
    },
    {
     "data": {
      "text/html": [
       "Tracking run with wandb version 0.16.4"
      ],
      "text/plain": [
       "<IPython.core.display.HTML object>"
      ]
     },
     "metadata": {},
     "output_type": "display_data"
    },
    {
     "data": {
      "text/html": [
       "Run data is saved locally in <code>/Users/hugoderohanwillner/Documents/MSc AI/S2 Courses/RL/Personal Project/wandb/run-20240412_150650-8uh1ik4t</code>"
      ],
      "text/plain": [
       "<IPython.core.display.HTML object>"
      ]
     },
     "metadata": {},
     "output_type": "display_data"
    },
    {
     "data": {
      "text/html": [
       "Syncing run <strong><a href='https://wandb.ai/hugoderohanwillner/flappy_mc_sweep_v3/runs/8uh1ik4t' target=\"_blank\">kind-sweep-2</a></strong> to <a href='https://wandb.ai/hugoderohanwillner/flappy_mc_sweep_v3' target=\"_blank\">Weights & Biases</a> (<a href='https://wandb.me/run' target=\"_blank\">docs</a>)<br/>Sweep page: <a href='https://wandb.ai/hugoderohanwillner/flappy_mc_sweep_v3/sweeps/whool4g0' target=\"_blank\">https://wandb.ai/hugoderohanwillner/flappy_mc_sweep_v3/sweeps/whool4g0</a>"
      ],
      "text/plain": [
       "<IPython.core.display.HTML object>"
      ]
     },
     "metadata": {},
     "output_type": "display_data"
    },
    {
     "data": {
      "text/html": [
       " View project at <a href='https://wandb.ai/hugoderohanwillner/flappy_mc_sweep_v3' target=\"_blank\">https://wandb.ai/hugoderohanwillner/flappy_mc_sweep_v3</a>"
      ],
      "text/plain": [
       "<IPython.core.display.HTML object>"
      ]
     },
     "metadata": {},
     "output_type": "display_data"
    },
    {
     "data": {
      "text/html": [
       " View sweep at <a href='https://wandb.ai/hugoderohanwillner/flappy_mc_sweep_v3/sweeps/whool4g0' target=\"_blank\">https://wandb.ai/hugoderohanwillner/flappy_mc_sweep_v3/sweeps/whool4g0</a>"
      ],
      "text/plain": [
       "<IPython.core.display.HTML object>"
      ]
     },
     "metadata": {},
     "output_type": "display_data"
    },
    {
     "data": {
      "text/html": [
       " View run at <a href='https://wandb.ai/hugoderohanwillner/flappy_mc_sweep_v3/runs/8uh1ik4t' target=\"_blank\">https://wandb.ai/hugoderohanwillner/flappy_mc_sweep_v3/runs/8uh1ik4t</a>"
      ],
      "text/plain": [
       "<IPython.core.display.HTML object>"
      ]
     },
     "metadata": {},
     "output_type": "display_data"
    },
    {
     "name": "stderr",
     "output_type": "stream",
     "text": [
      "100%|██████████| 8000/8000 [00:04<00:00, 1815.97it/s]\n"
     ]
    },
    {
     "data": {
      "text/html": [
       "<style>\n",
       "    table.wandb td:nth-child(1) { padding: 0 10px; text-align: left ; width: auto;} td:nth-child(2) {text-align: left ; width: 100%}\n",
       "    .wandb-row { display: flex; flex-direction: row; flex-wrap: wrap; justify-content: flex-start; width: 100% }\n",
       "    .wandb-col { display: flex; flex-direction: column; flex-basis: 100%; flex: 1; padding: 10px; }\n",
       "    </style>\n",
       "<div class=\"wandb-row\"><div class=\"wandb-col\"><h3>Run history:</h3><br/><table class=\"wandb\"><tr><td>mean_ep_reward</td><td>▁</td></tr><tr><td>reward</td><td>▄▄▅▄▃▅▁▁▁▃▂▂▇▃▁█▅▇▁▁▃▄▆▁▄▁▃▆▁▄▂▃▁▄▄▃▁▁▆▃</td></tr></table><br/></div><div class=\"wandb-col\"><h3>Run summary:</h3><br/><table class=\"wandb\"><tr><td>mean_ep_reward</td><td>23.26625</td></tr><tr><td>reward</td><td>18</td></tr></table><br/></div></div>"
      ],
      "text/plain": [
       "<IPython.core.display.HTML object>"
      ]
     },
     "metadata": {},
     "output_type": "display_data"
    },
    {
     "data": {
      "text/html": [
       " View run <strong style=\"color:#cdcd00\">kind-sweep-2</strong> at: <a href='https://wandb.ai/hugoderohanwillner/flappy_mc_sweep_v3/runs/8uh1ik4t' target=\"_blank\">https://wandb.ai/hugoderohanwillner/flappy_mc_sweep_v3/runs/8uh1ik4t</a><br/>Synced 6 W&B file(s), 0 media file(s), 0 artifact file(s) and 0 other file(s)"
      ],
      "text/plain": [
       "<IPython.core.display.HTML object>"
      ]
     },
     "metadata": {},
     "output_type": "display_data"
    },
    {
     "data": {
      "text/html": [
       "Find logs at: <code>./wandb/run-20240412_150650-8uh1ik4t/logs</code>"
      ],
      "text/plain": [
       "<IPython.core.display.HTML object>"
      ]
     },
     "metadata": {},
     "output_type": "display_data"
    },
    {
     "name": "stderr",
     "output_type": "stream",
     "text": [
      "\u001b[34m\u001b[1mwandb\u001b[0m: Agent Starting Run: wwmwgcca with config:\n",
      "\u001b[34m\u001b[1mwandb\u001b[0m: \talpha: 0.0619707344672119\n",
      "\u001b[34m\u001b[1mwandb\u001b[0m: \teps_decay: 0.99\n",
      "\u001b[34m\u001b[1mwandb\u001b[0m: \teps_start: 1\n",
      "Failed to detect the name of this notebook, you can set it manually with the WANDB_NOTEBOOK_NAME environment variable to enable code saving.\n",
      "\u001b[34m\u001b[1mwandb\u001b[0m: \u001b[33mWARNING\u001b[0m Ignored wandb.init() arg project when running a sweep.\n"
     ]
    },
    {
     "data": {
      "text/html": [
       "wandb version 0.16.6 is available!  To upgrade, please run:\n",
       " $ pip install wandb --upgrade"
      ],
      "text/plain": [
       "<IPython.core.display.HTML object>"
      ]
     },
     "metadata": {},
     "output_type": "display_data"
    },
    {
     "data": {
      "text/html": [
       "Tracking run with wandb version 0.16.4"
      ],
      "text/plain": [
       "<IPython.core.display.HTML object>"
      ]
     },
     "metadata": {},
     "output_type": "display_data"
    },
    {
     "data": {
      "text/html": [
       "Run data is saved locally in <code>/Users/hugoderohanwillner/Documents/MSc AI/S2 Courses/RL/Personal Project/wandb/run-20240412_150707-wwmwgcca</code>"
      ],
      "text/plain": [
       "<IPython.core.display.HTML object>"
      ]
     },
     "metadata": {},
     "output_type": "display_data"
    },
    {
     "data": {
      "text/html": [
       "Syncing run <strong><a href='https://wandb.ai/hugoderohanwillner/flappy_mc_sweep_v3/runs/wwmwgcca' target=\"_blank\">tough-sweep-3</a></strong> to <a href='https://wandb.ai/hugoderohanwillner/flappy_mc_sweep_v3' target=\"_blank\">Weights & Biases</a> (<a href='https://wandb.me/run' target=\"_blank\">docs</a>)<br/>Sweep page: <a href='https://wandb.ai/hugoderohanwillner/flappy_mc_sweep_v3/sweeps/whool4g0' target=\"_blank\">https://wandb.ai/hugoderohanwillner/flappy_mc_sweep_v3/sweeps/whool4g0</a>"
      ],
      "text/plain": [
       "<IPython.core.display.HTML object>"
      ]
     },
     "metadata": {},
     "output_type": "display_data"
    },
    {
     "data": {
      "text/html": [
       " View project at <a href='https://wandb.ai/hugoderohanwillner/flappy_mc_sweep_v3' target=\"_blank\">https://wandb.ai/hugoderohanwillner/flappy_mc_sweep_v3</a>"
      ],
      "text/plain": [
       "<IPython.core.display.HTML object>"
      ]
     },
     "metadata": {},
     "output_type": "display_data"
    },
    {
     "data": {
      "text/html": [
       " View sweep at <a href='https://wandb.ai/hugoderohanwillner/flappy_mc_sweep_v3/sweeps/whool4g0' target=\"_blank\">https://wandb.ai/hugoderohanwillner/flappy_mc_sweep_v3/sweeps/whool4g0</a>"
      ],
      "text/plain": [
       "<IPython.core.display.HTML object>"
      ]
     },
     "metadata": {},
     "output_type": "display_data"
    },
    {
     "data": {
      "text/html": [
       " View run at <a href='https://wandb.ai/hugoderohanwillner/flappy_mc_sweep_v3/runs/wwmwgcca' target=\"_blank\">https://wandb.ai/hugoderohanwillner/flappy_mc_sweep_v3/runs/wwmwgcca</a>"
      ],
      "text/plain": [
       "<IPython.core.display.HTML object>"
      ]
     },
     "metadata": {},
     "output_type": "display_data"
    },
    {
     "name": "stderr",
     "output_type": "stream",
     "text": [
      "100%|██████████| 8000/8000 [00:23<00:00, 344.95it/s]\n"
     ]
    },
    {
     "data": {
      "text/html": [
       "<style>\n",
       "    table.wandb td:nth-child(1) { padding: 0 10px; text-align: left ; width: auto;} td:nth-child(2) {text-align: left ; width: 100%}\n",
       "    .wandb-row { display: flex; flex-direction: row; flex-wrap: wrap; justify-content: flex-start; width: 100% }\n",
       "    .wandb-col { display: flex; flex-direction: column; flex-basis: 100%; flex: 1; padding: 10px; }\n",
       "    </style>\n",
       "<div class=\"wandb-row\"><div class=\"wandb-col\"><h3>Run history:</h3><br/><table class=\"wandb\"><tr><td>mean_ep_reward</td><td>▁</td></tr><tr><td>reward</td><td>▁▂▄▃▂█▅▃▁▂▇▆▂▄▂▇▁▇▁▁▃▃▃▇▁▁▃▃█▁▄▁▁▃▃▇▁▁▁▃</td></tr></table><br/></div><div class=\"wandb-col\"><h3>Run summary:</h3><br/><table class=\"wandb\"><tr><td>mean_ep_reward</td><td>108.17925</td></tr><tr><td>reward</td><td>98</td></tr></table><br/></div></div>"
      ],
      "text/plain": [
       "<IPython.core.display.HTML object>"
      ]
     },
     "metadata": {},
     "output_type": "display_data"
    },
    {
     "data": {
      "text/html": [
       " View run <strong style=\"color:#cdcd00\">tough-sweep-3</strong> at: <a href='https://wandb.ai/hugoderohanwillner/flappy_mc_sweep_v3/runs/wwmwgcca' target=\"_blank\">https://wandb.ai/hugoderohanwillner/flappy_mc_sweep_v3/runs/wwmwgcca</a><br/>Synced 6 W&B file(s), 0 media file(s), 0 artifact file(s) and 0 other file(s)"
      ],
      "text/plain": [
       "<IPython.core.display.HTML object>"
      ]
     },
     "metadata": {},
     "output_type": "display_data"
    },
    {
     "data": {
      "text/html": [
       "Find logs at: <code>./wandb/run-20240412_150707-wwmwgcca/logs</code>"
      ],
      "text/plain": [
       "<IPython.core.display.HTML object>"
      ]
     },
     "metadata": {},
     "output_type": "display_data"
    },
    {
     "name": "stderr",
     "output_type": "stream",
     "text": [
      "\u001b[34m\u001b[1mwandb\u001b[0m: Agent Starting Run: jow53sf3 with config:\n",
      "\u001b[34m\u001b[1mwandb\u001b[0m: \talpha: 0.010719626829176192\n",
      "\u001b[34m\u001b[1mwandb\u001b[0m: \teps_decay: 0.999\n",
      "\u001b[34m\u001b[1mwandb\u001b[0m: \teps_start: 0.75\n",
      "Failed to detect the name of this notebook, you can set it manually with the WANDB_NOTEBOOK_NAME environment variable to enable code saving.\n",
      "\u001b[34m\u001b[1mwandb\u001b[0m: \u001b[33mWARNING\u001b[0m Ignored wandb.init() arg project when running a sweep.\n"
     ]
    },
    {
     "data": {
      "text/html": [
       "wandb version 0.16.6 is available!  To upgrade, please run:\n",
       " $ pip install wandb --upgrade"
      ],
      "text/plain": [
       "<IPython.core.display.HTML object>"
      ]
     },
     "metadata": {},
     "output_type": "display_data"
    },
    {
     "data": {
      "text/html": [
       "Tracking run with wandb version 0.16.4"
      ],
      "text/plain": [
       "<IPython.core.display.HTML object>"
      ]
     },
     "metadata": {},
     "output_type": "display_data"
    },
    {
     "data": {
      "text/html": [
       "Run data is saved locally in <code>/Users/hugoderohanwillner/Documents/MSc AI/S2 Courses/RL/Personal Project/wandb/run-20240412_150744-jow53sf3</code>"
      ],
      "text/plain": [
       "<IPython.core.display.HTML object>"
      ]
     },
     "metadata": {},
     "output_type": "display_data"
    },
    {
     "data": {
      "text/html": [
       "Syncing run <strong><a href='https://wandb.ai/hugoderohanwillner/flappy_mc_sweep_v3/runs/jow53sf3' target=\"_blank\">devoted-sweep-4</a></strong> to <a href='https://wandb.ai/hugoderohanwillner/flappy_mc_sweep_v3' target=\"_blank\">Weights & Biases</a> (<a href='https://wandb.me/run' target=\"_blank\">docs</a>)<br/>Sweep page: <a href='https://wandb.ai/hugoderohanwillner/flappy_mc_sweep_v3/sweeps/whool4g0' target=\"_blank\">https://wandb.ai/hugoderohanwillner/flappy_mc_sweep_v3/sweeps/whool4g0</a>"
      ],
      "text/plain": [
       "<IPython.core.display.HTML object>"
      ]
     },
     "metadata": {},
     "output_type": "display_data"
    },
    {
     "data": {
      "text/html": [
       " View project at <a href='https://wandb.ai/hugoderohanwillner/flappy_mc_sweep_v3' target=\"_blank\">https://wandb.ai/hugoderohanwillner/flappy_mc_sweep_v3</a>"
      ],
      "text/plain": [
       "<IPython.core.display.HTML object>"
      ]
     },
     "metadata": {},
     "output_type": "display_data"
    },
    {
     "data": {
      "text/html": [
       " View sweep at <a href='https://wandb.ai/hugoderohanwillner/flappy_mc_sweep_v3/sweeps/whool4g0' target=\"_blank\">https://wandb.ai/hugoderohanwillner/flappy_mc_sweep_v3/sweeps/whool4g0</a>"
      ],
      "text/plain": [
       "<IPython.core.display.HTML object>"
      ]
     },
     "metadata": {},
     "output_type": "display_data"
    },
    {
     "data": {
      "text/html": [
       " View run at <a href='https://wandb.ai/hugoderohanwillner/flappy_mc_sweep_v3/runs/jow53sf3' target=\"_blank\">https://wandb.ai/hugoderohanwillner/flappy_mc_sweep_v3/runs/jow53sf3</a>"
      ],
      "text/plain": [
       "<IPython.core.display.HTML object>"
      ]
     },
     "metadata": {},
     "output_type": "display_data"
    },
    {
     "name": "stderr",
     "output_type": "stream",
     "text": [
      "100%|██████████| 8000/8000 [00:45<00:00, 176.48it/s] \n"
     ]
    },
    {
     "data": {
      "text/html": [
       "<style>\n",
       "    table.wandb td:nth-child(1) { padding: 0 10px; text-align: left ; width: auto;} td:nth-child(2) {text-align: left ; width: 100%}\n",
       "    .wandb-row { display: flex; flex-direction: row; flex-wrap: wrap; justify-content: flex-start; width: 100% }\n",
       "    .wandb-col { display: flex; flex-direction: column; flex-basis: 100%; flex: 1; padding: 10px; }\n",
       "    </style>\n",
       "<div class=\"wandb-row\"><div class=\"wandb-col\"><h3>Run history:</h3><br/><table class=\"wandb\"><tr><td>mean_ep_reward</td><td>▁</td></tr><tr><td>reward</td><td>▁▁▁▁▁▁▂▁▁▁▁▂▁▁▃▂▂██▁▆▆█▃█▆▃▃▁▅█▃█▄▇▆▃▆▄▃</td></tr></table><br/></div><div class=\"wandb-col\"><h3>Run summary:</h3><br/><table class=\"wandb\"><tr><td>mean_ep_reward</td><td>175.22162</td></tr><tr><td>reward</td><td>247</td></tr></table><br/></div></div>"
      ],
      "text/plain": [
       "<IPython.core.display.HTML object>"
      ]
     },
     "metadata": {},
     "output_type": "display_data"
    },
    {
     "data": {
      "text/html": [
       " View run <strong style=\"color:#cdcd00\">devoted-sweep-4</strong> at: <a href='https://wandb.ai/hugoderohanwillner/flappy_mc_sweep_v3/runs/jow53sf3' target=\"_blank\">https://wandb.ai/hugoderohanwillner/flappy_mc_sweep_v3/runs/jow53sf3</a><br/>Synced 6 W&B file(s), 0 media file(s), 0 artifact file(s) and 0 other file(s)"
      ],
      "text/plain": [
       "<IPython.core.display.HTML object>"
      ]
     },
     "metadata": {},
     "output_type": "display_data"
    },
    {
     "data": {
      "text/html": [
       "Find logs at: <code>./wandb/run-20240412_150744-jow53sf3/logs</code>"
      ],
      "text/plain": [
       "<IPython.core.display.HTML object>"
      ]
     },
     "metadata": {},
     "output_type": "display_data"
    },
    {
     "name": "stderr",
     "output_type": "stream",
     "text": [
      "\u001b[34m\u001b[1mwandb\u001b[0m: Agent Starting Run: gkwp6bj8 with config:\n",
      "\u001b[34m\u001b[1mwandb\u001b[0m: \talpha: 0.09288006738709956\n",
      "\u001b[34m\u001b[1mwandb\u001b[0m: \teps_decay: 0.9\n",
      "\u001b[34m\u001b[1mwandb\u001b[0m: \teps_start: 0.5\n",
      "Failed to detect the name of this notebook, you can set it manually with the WANDB_NOTEBOOK_NAME environment variable to enable code saving.\n",
      "\u001b[34m\u001b[1mwandb\u001b[0m: \u001b[33mWARNING\u001b[0m Ignored wandb.init() arg project when running a sweep.\n"
     ]
    },
    {
     "data": {
      "text/html": [
       "wandb version 0.16.6 is available!  To upgrade, please run:\n",
       " $ pip install wandb --upgrade"
      ],
      "text/plain": [
       "<IPython.core.display.HTML object>"
      ]
     },
     "metadata": {},
     "output_type": "display_data"
    },
    {
     "data": {
      "text/html": [
       "Tracking run with wandb version 0.16.4"
      ],
      "text/plain": [
       "<IPython.core.display.HTML object>"
      ]
     },
     "metadata": {},
     "output_type": "display_data"
    },
    {
     "data": {
      "text/html": [
       "Run data is saved locally in <code>/Users/hugoderohanwillner/Documents/MSc AI/S2 Courses/RL/Personal Project/wandb/run-20240412_150841-gkwp6bj8</code>"
      ],
      "text/plain": [
       "<IPython.core.display.HTML object>"
      ]
     },
     "metadata": {},
     "output_type": "display_data"
    },
    {
     "data": {
      "text/html": [
       "Syncing run <strong><a href='https://wandb.ai/hugoderohanwillner/flappy_mc_sweep_v3/runs/gkwp6bj8' target=\"_blank\">comic-sweep-5</a></strong> to <a href='https://wandb.ai/hugoderohanwillner/flappy_mc_sweep_v3' target=\"_blank\">Weights & Biases</a> (<a href='https://wandb.me/run' target=\"_blank\">docs</a>)<br/>Sweep page: <a href='https://wandb.ai/hugoderohanwillner/flappy_mc_sweep_v3/sweeps/whool4g0' target=\"_blank\">https://wandb.ai/hugoderohanwillner/flappy_mc_sweep_v3/sweeps/whool4g0</a>"
      ],
      "text/plain": [
       "<IPython.core.display.HTML object>"
      ]
     },
     "metadata": {},
     "output_type": "display_data"
    },
    {
     "data": {
      "text/html": [
       " View project at <a href='https://wandb.ai/hugoderohanwillner/flappy_mc_sweep_v3' target=\"_blank\">https://wandb.ai/hugoderohanwillner/flappy_mc_sweep_v3</a>"
      ],
      "text/plain": [
       "<IPython.core.display.HTML object>"
      ]
     },
     "metadata": {},
     "output_type": "display_data"
    },
    {
     "data": {
      "text/html": [
       " View sweep at <a href='https://wandb.ai/hugoderohanwillner/flappy_mc_sweep_v3/sweeps/whool4g0' target=\"_blank\">https://wandb.ai/hugoderohanwillner/flappy_mc_sweep_v3/sweeps/whool4g0</a>"
      ],
      "text/plain": [
       "<IPython.core.display.HTML object>"
      ]
     },
     "metadata": {},
     "output_type": "display_data"
    },
    {
     "data": {
      "text/html": [
       " View run at <a href='https://wandb.ai/hugoderohanwillner/flappy_mc_sweep_v3/runs/gkwp6bj8' target=\"_blank\">https://wandb.ai/hugoderohanwillner/flappy_mc_sweep_v3/runs/gkwp6bj8</a>"
      ],
      "text/plain": [
       "<IPython.core.display.HTML object>"
      ]
     },
     "metadata": {},
     "output_type": "display_data"
    },
    {
     "name": "stderr",
     "output_type": "stream",
     "text": [
      "100%|██████████| 8000/8000 [00:02<00:00, 3593.90it/s]\n"
     ]
    },
    {
     "data": {
      "text/html": [
       "<style>\n",
       "    table.wandb td:nth-child(1) { padding: 0 10px; text-align: left ; width: auto;} td:nth-child(2) {text-align: left ; width: 100%}\n",
       "    .wandb-row { display: flex; flex-direction: row; flex-wrap: wrap; justify-content: flex-start; width: 100% }\n",
       "    .wandb-col { display: flex; flex-direction: column; flex-basis: 100%; flex: 1; padding: 10px; }\n",
       "    </style>\n",
       "<div class=\"wandb-row\"><div class=\"wandb-col\"><h3>Run history:</h3><br/><table class=\"wandb\"><tr><td>mean_ep_reward</td><td>▁</td></tr><tr><td>reward</td><td>▁▃▁▃█▃██▄███▃▃██▃███▃▁████▃██▁▃██▄███▃▃█</td></tr></table><br/></div><div class=\"wandb-col\"><h3>Run summary:</h3><br/><table class=\"wandb\"><tr><td>mean_ep_reward</td><td>10.94688</td></tr><tr><td>reward</td><td>13</td></tr></table><br/></div></div>"
      ],
      "text/plain": [
       "<IPython.core.display.HTML object>"
      ]
     },
     "metadata": {},
     "output_type": "display_data"
    },
    {
     "data": {
      "text/html": [
       " View run <strong style=\"color:#cdcd00\">comic-sweep-5</strong> at: <a href='https://wandb.ai/hugoderohanwillner/flappy_mc_sweep_v3/runs/gkwp6bj8' target=\"_blank\">https://wandb.ai/hugoderohanwillner/flappy_mc_sweep_v3/runs/gkwp6bj8</a><br/>Synced 6 W&B file(s), 0 media file(s), 0 artifact file(s) and 0 other file(s)"
      ],
      "text/plain": [
       "<IPython.core.display.HTML object>"
      ]
     },
     "metadata": {},
     "output_type": "display_data"
    },
    {
     "data": {
      "text/html": [
       "Find logs at: <code>./wandb/run-20240412_150841-gkwp6bj8/logs</code>"
      ],
      "text/plain": [
       "<IPython.core.display.HTML object>"
      ]
     },
     "metadata": {},
     "output_type": "display_data"
    },
    {
     "name": "stderr",
     "output_type": "stream",
     "text": [
      "\u001b[34m\u001b[1mwandb\u001b[0m: Agent Starting Run: wojgmhrw with config:\n",
      "\u001b[34m\u001b[1mwandb\u001b[0m: \talpha: 0.0940657943348629\n",
      "\u001b[34m\u001b[1mwandb\u001b[0m: \teps_decay: 0.999\n",
      "\u001b[34m\u001b[1mwandb\u001b[0m: \teps_start: 0.75\n",
      "Failed to detect the name of this notebook, you can set it manually with the WANDB_NOTEBOOK_NAME environment variable to enable code saving.\n",
      "\u001b[34m\u001b[1mwandb\u001b[0m: \u001b[33mWARNING\u001b[0m Ignored wandb.init() arg project when running a sweep.\n"
     ]
    },
    {
     "data": {
      "text/html": [
       "wandb version 0.16.6 is available!  To upgrade, please run:\n",
       " $ pip install wandb --upgrade"
      ],
      "text/plain": [
       "<IPython.core.display.HTML object>"
      ]
     },
     "metadata": {},
     "output_type": "display_data"
    },
    {
     "data": {
      "text/html": [
       "Tracking run with wandb version 0.16.4"
      ],
      "text/plain": [
       "<IPython.core.display.HTML object>"
      ]
     },
     "metadata": {},
     "output_type": "display_data"
    },
    {
     "data": {
      "text/html": [
       "Run data is saved locally in <code>/Users/hugoderohanwillner/Documents/MSc AI/S2 Courses/RL/Personal Project/wandb/run-20240412_150857-wojgmhrw</code>"
      ],
      "text/plain": [
       "<IPython.core.display.HTML object>"
      ]
     },
     "metadata": {},
     "output_type": "display_data"
    },
    {
     "data": {
      "text/html": [
       "Syncing run <strong><a href='https://wandb.ai/hugoderohanwillner/flappy_mc_sweep_v3/runs/wojgmhrw' target=\"_blank\">electric-sweep-6</a></strong> to <a href='https://wandb.ai/hugoderohanwillner/flappy_mc_sweep_v3' target=\"_blank\">Weights & Biases</a> (<a href='https://wandb.me/run' target=\"_blank\">docs</a>)<br/>Sweep page: <a href='https://wandb.ai/hugoderohanwillner/flappy_mc_sweep_v3/sweeps/whool4g0' target=\"_blank\">https://wandb.ai/hugoderohanwillner/flappy_mc_sweep_v3/sweeps/whool4g0</a>"
      ],
      "text/plain": [
       "<IPython.core.display.HTML object>"
      ]
     },
     "metadata": {},
     "output_type": "display_data"
    },
    {
     "data": {
      "text/html": [
       " View project at <a href='https://wandb.ai/hugoderohanwillner/flappy_mc_sweep_v3' target=\"_blank\">https://wandb.ai/hugoderohanwillner/flappy_mc_sweep_v3</a>"
      ],
      "text/plain": [
       "<IPython.core.display.HTML object>"
      ]
     },
     "metadata": {},
     "output_type": "display_data"
    },
    {
     "data": {
      "text/html": [
       " View sweep at <a href='https://wandb.ai/hugoderohanwillner/flappy_mc_sweep_v3/sweeps/whool4g0' target=\"_blank\">https://wandb.ai/hugoderohanwillner/flappy_mc_sweep_v3/sweeps/whool4g0</a>"
      ],
      "text/plain": [
       "<IPython.core.display.HTML object>"
      ]
     },
     "metadata": {},
     "output_type": "display_data"
    },
    {
     "data": {
      "text/html": [
       " View run at <a href='https://wandb.ai/hugoderohanwillner/flappy_mc_sweep_v3/runs/wojgmhrw' target=\"_blank\">https://wandb.ai/hugoderohanwillner/flappy_mc_sweep_v3/runs/wojgmhrw</a>"
      ],
      "text/plain": [
       "<IPython.core.display.HTML object>"
      ]
     },
     "metadata": {},
     "output_type": "display_data"
    },
    {
     "name": "stderr",
     "output_type": "stream",
     "text": [
      "100%|██████████| 8000/8000 [01:09<00:00, 115.51it/s] \n"
     ]
    },
    {
     "data": {
      "text/html": [
       "<style>\n",
       "    table.wandb td:nth-child(1) { padding: 0 10px; text-align: left ; width: auto;} td:nth-child(2) {text-align: left ; width: 100%}\n",
       "    .wandb-row { display: flex; flex-direction: row; flex-wrap: wrap; justify-content: flex-start; width: 100% }\n",
       "    .wandb-col { display: flex; flex-direction: column; flex-basis: 100%; flex: 1; padding: 10px; }\n",
       "    </style>\n",
       "<div class=\"wandb-row\"><div class=\"wandb-col\"><h3>Run history:</h3><br/><table class=\"wandb\"><tr><td>mean_ep_reward</td><td>▁</td></tr><tr><td>reward</td><td>▁▁▁▁▁▁▁▁▄▁▁▂▁█▂▄▁▃▄▇▁▇▆▁▅██▄█▄██▄██████▆</td></tr></table><br/></div><div class=\"wandb-col\"><h3>Run summary:</h3><br/><table class=\"wandb\"><tr><td>mean_ep_reward</td><td>243.37625</td></tr><tr><td>reward</td><td>405</td></tr></table><br/></div></div>"
      ],
      "text/plain": [
       "<IPython.core.display.HTML object>"
      ]
     },
     "metadata": {},
     "output_type": "display_data"
    },
    {
     "data": {
      "text/html": [
       " View run <strong style=\"color:#cdcd00\">electric-sweep-6</strong> at: <a href='https://wandb.ai/hugoderohanwillner/flappy_mc_sweep_v3/runs/wojgmhrw' target=\"_blank\">https://wandb.ai/hugoderohanwillner/flappy_mc_sweep_v3/runs/wojgmhrw</a><br/>Synced 6 W&B file(s), 0 media file(s), 0 artifact file(s) and 0 other file(s)"
      ],
      "text/plain": [
       "<IPython.core.display.HTML object>"
      ]
     },
     "metadata": {},
     "output_type": "display_data"
    },
    {
     "data": {
      "text/html": [
       "Find logs at: <code>./wandb/run-20240412_150857-wojgmhrw/logs</code>"
      ],
      "text/plain": [
       "<IPython.core.display.HTML object>"
      ]
     },
     "metadata": {},
     "output_type": "display_data"
    },
    {
     "name": "stderr",
     "output_type": "stream",
     "text": [
      "\u001b[34m\u001b[1mwandb\u001b[0m: Agent Starting Run: 8eqe98ew with config:\n",
      "\u001b[34m\u001b[1mwandb\u001b[0m: \talpha: 0.03748388234126337\n",
      "\u001b[34m\u001b[1mwandb\u001b[0m: \teps_decay: 0.9\n",
      "\u001b[34m\u001b[1mwandb\u001b[0m: \teps_start: 0.75\n",
      "Failed to detect the name of this notebook, you can set it manually with the WANDB_NOTEBOOK_NAME environment variable to enable code saving.\n",
      "\u001b[34m\u001b[1mwandb\u001b[0m: \u001b[33mWARNING\u001b[0m Ignored wandb.init() arg project when running a sweep.\n"
     ]
    },
    {
     "data": {
      "text/html": [
       "wandb version 0.16.6 is available!  To upgrade, please run:\n",
       " $ pip install wandb --upgrade"
      ],
      "text/plain": [
       "<IPython.core.display.HTML object>"
      ]
     },
     "metadata": {},
     "output_type": "display_data"
    },
    {
     "data": {
      "text/html": [
       "Tracking run with wandb version 0.16.4"
      ],
      "text/plain": [
       "<IPython.core.display.HTML object>"
      ]
     },
     "metadata": {},
     "output_type": "display_data"
    },
    {
     "data": {
      "text/html": [
       "Run data is saved locally in <code>/Users/hugoderohanwillner/Documents/MSc AI/S2 Courses/RL/Personal Project/wandb/run-20240412_151017-8eqe98ew</code>"
      ],
      "text/plain": [
       "<IPython.core.display.HTML object>"
      ]
     },
     "metadata": {},
     "output_type": "display_data"
    },
    {
     "data": {
      "text/html": [
       "Syncing run <strong><a href='https://wandb.ai/hugoderohanwillner/flappy_mc_sweep_v3/runs/8eqe98ew' target=\"_blank\">quiet-sweep-7</a></strong> to <a href='https://wandb.ai/hugoderohanwillner/flappy_mc_sweep_v3' target=\"_blank\">Weights & Biases</a> (<a href='https://wandb.me/run' target=\"_blank\">docs</a>)<br/>Sweep page: <a href='https://wandb.ai/hugoderohanwillner/flappy_mc_sweep_v3/sweeps/whool4g0' target=\"_blank\">https://wandb.ai/hugoderohanwillner/flappy_mc_sweep_v3/sweeps/whool4g0</a>"
      ],
      "text/plain": [
       "<IPython.core.display.HTML object>"
      ]
     },
     "metadata": {},
     "output_type": "display_data"
    },
    {
     "data": {
      "text/html": [
       " View project at <a href='https://wandb.ai/hugoderohanwillner/flappy_mc_sweep_v3' target=\"_blank\">https://wandb.ai/hugoderohanwillner/flappy_mc_sweep_v3</a>"
      ],
      "text/plain": [
       "<IPython.core.display.HTML object>"
      ]
     },
     "metadata": {},
     "output_type": "display_data"
    },
    {
     "data": {
      "text/html": [
       " View sweep at <a href='https://wandb.ai/hugoderohanwillner/flappy_mc_sweep_v3/sweeps/whool4g0' target=\"_blank\">https://wandb.ai/hugoderohanwillner/flappy_mc_sweep_v3/sweeps/whool4g0</a>"
      ],
      "text/plain": [
       "<IPython.core.display.HTML object>"
      ]
     },
     "metadata": {},
     "output_type": "display_data"
    },
    {
     "data": {
      "text/html": [
       " View run at <a href='https://wandb.ai/hugoderohanwillner/flappy_mc_sweep_v3/runs/8eqe98ew' target=\"_blank\">https://wandb.ai/hugoderohanwillner/flappy_mc_sweep_v3/runs/8eqe98ew</a>"
      ],
      "text/plain": [
       "<IPython.core.display.HTML object>"
      ]
     },
     "metadata": {},
     "output_type": "display_data"
    },
    {
     "name": "stderr",
     "output_type": "stream",
     "text": [
      "100%|██████████| 8000/8000 [00:03<00:00, 2219.96it/s]\n"
     ]
    },
    {
     "data": {
      "text/html": [
       "<style>\n",
       "    table.wandb td:nth-child(1) { padding: 0 10px; text-align: left ; width: auto;} td:nth-child(2) {text-align: left ; width: 100%}\n",
       "    .wandb-row { display: flex; flex-direction: row; flex-wrap: wrap; justify-content: flex-start; width: 100% }\n",
       "    .wandb-col { display: flex; flex-direction: column; flex-basis: 100%; flex: 1; padding: 10px; }\n",
       "    </style>\n",
       "<div class=\"wandb-row\"><div class=\"wandb-col\"><h3>Run history:</h3><br/><table class=\"wandb\"><tr><td>mean_ep_reward</td><td>▁</td></tr><tr><td>reward</td><td>▃▁▂▂▅▅▁▁▁▁▅▅▁▂▁▅▁█▁▁▅▅▁▅▁▅▁▁▃▅▂▅▁▂▁▁▅▅▅▂</td></tr></table><br/></div><div class=\"wandb-col\"><h3>Run summary:</h3><br/><table class=\"wandb\"><tr><td>mean_ep_reward</td><td>18.46337</td></tr><tr><td>reward</td><td>13</td></tr></table><br/></div></div>"
      ],
      "text/plain": [
       "<IPython.core.display.HTML object>"
      ]
     },
     "metadata": {},
     "output_type": "display_data"
    },
    {
     "data": {
      "text/html": [
       " View run <strong style=\"color:#cdcd00\">quiet-sweep-7</strong> at: <a href='https://wandb.ai/hugoderohanwillner/flappy_mc_sweep_v3/runs/8eqe98ew' target=\"_blank\">https://wandb.ai/hugoderohanwillner/flappy_mc_sweep_v3/runs/8eqe98ew</a><br/>Synced 6 W&B file(s), 0 media file(s), 0 artifact file(s) and 0 other file(s)"
      ],
      "text/plain": [
       "<IPython.core.display.HTML object>"
      ]
     },
     "metadata": {},
     "output_type": "display_data"
    },
    {
     "data": {
      "text/html": [
       "Find logs at: <code>./wandb/run-20240412_151017-8eqe98ew/logs</code>"
      ],
      "text/plain": [
       "<IPython.core.display.HTML object>"
      ]
     },
     "metadata": {},
     "output_type": "display_data"
    },
    {
     "name": "stderr",
     "output_type": "stream",
     "text": [
      "\u001b[34m\u001b[1mwandb\u001b[0m: Agent Starting Run: pswrda6w with config:\n",
      "\u001b[34m\u001b[1mwandb\u001b[0m: \talpha: 0.09153831971079662\n",
      "\u001b[34m\u001b[1mwandb\u001b[0m: \teps_decay: 0.99\n",
      "\u001b[34m\u001b[1mwandb\u001b[0m: \teps_start: 0.5\n",
      "Failed to detect the name of this notebook, you can set it manually with the WANDB_NOTEBOOK_NAME environment variable to enable code saving.\n",
      "\u001b[34m\u001b[1mwandb\u001b[0m: \u001b[33mWARNING\u001b[0m Ignored wandb.init() arg project when running a sweep.\n"
     ]
    },
    {
     "data": {
      "text/html": [
       "wandb version 0.16.6 is available!  To upgrade, please run:\n",
       " $ pip install wandb --upgrade"
      ],
      "text/plain": [
       "<IPython.core.display.HTML object>"
      ]
     },
     "metadata": {},
     "output_type": "display_data"
    },
    {
     "data": {
      "text/html": [
       "Tracking run with wandb version 0.16.4"
      ],
      "text/plain": [
       "<IPython.core.display.HTML object>"
      ]
     },
     "metadata": {},
     "output_type": "display_data"
    },
    {
     "data": {
      "text/html": [
       "Run data is saved locally in <code>/Users/hugoderohanwillner/Documents/MSc AI/S2 Courses/RL/Personal Project/wandb/run-20240412_151032-pswrda6w</code>"
      ],
      "text/plain": [
       "<IPython.core.display.HTML object>"
      ]
     },
     "metadata": {},
     "output_type": "display_data"
    },
    {
     "data": {
      "text/html": [
       "Syncing run <strong><a href='https://wandb.ai/hugoderohanwillner/flappy_mc_sweep_v3/runs/pswrda6w' target=\"_blank\">different-sweep-8</a></strong> to <a href='https://wandb.ai/hugoderohanwillner/flappy_mc_sweep_v3' target=\"_blank\">Weights & Biases</a> (<a href='https://wandb.me/run' target=\"_blank\">docs</a>)<br/>Sweep page: <a href='https://wandb.ai/hugoderohanwillner/flappy_mc_sweep_v3/sweeps/whool4g0' target=\"_blank\">https://wandb.ai/hugoderohanwillner/flappy_mc_sweep_v3/sweeps/whool4g0</a>"
      ],
      "text/plain": [
       "<IPython.core.display.HTML object>"
      ]
     },
     "metadata": {},
     "output_type": "display_data"
    },
    {
     "data": {
      "text/html": [
       " View project at <a href='https://wandb.ai/hugoderohanwillner/flappy_mc_sweep_v3' target=\"_blank\">https://wandb.ai/hugoderohanwillner/flappy_mc_sweep_v3</a>"
      ],
      "text/plain": [
       "<IPython.core.display.HTML object>"
      ]
     },
     "metadata": {},
     "output_type": "display_data"
    },
    {
     "data": {
      "text/html": [
       " View sweep at <a href='https://wandb.ai/hugoderohanwillner/flappy_mc_sweep_v3/sweeps/whool4g0' target=\"_blank\">https://wandb.ai/hugoderohanwillner/flappy_mc_sweep_v3/sweeps/whool4g0</a>"
      ],
      "text/plain": [
       "<IPython.core.display.HTML object>"
      ]
     },
     "metadata": {},
     "output_type": "display_data"
    },
    {
     "data": {
      "text/html": [
       " View run at <a href='https://wandb.ai/hugoderohanwillner/flappy_mc_sweep_v3/runs/pswrda6w' target=\"_blank\">https://wandb.ai/hugoderohanwillner/flappy_mc_sweep_v3/runs/pswrda6w</a>"
      ],
      "text/plain": [
       "<IPython.core.display.HTML object>"
      ]
     },
     "metadata": {},
     "output_type": "display_data"
    },
    {
     "name": "stderr",
     "output_type": "stream",
     "text": [
      "100%|██████████| 8000/8000 [00:11<00:00, 666.91it/s]\n"
     ]
    },
    {
     "data": {
      "text/html": [
       "<style>\n",
       "    table.wandb td:nth-child(1) { padding: 0 10px; text-align: left ; width: auto;} td:nth-child(2) {text-align: left ; width: 100%}\n",
       "    .wandb-row { display: flex; flex-direction: row; flex-wrap: wrap; justify-content: flex-start; width: 100% }\n",
       "    .wandb-col { display: flex; flex-direction: column; flex-basis: 100%; flex: 1; padding: 10px; }\n",
       "    </style>\n",
       "<div class=\"wandb-row\"><div class=\"wandb-col\"><h3>Run history:</h3><br/><table class=\"wandb\"><tr><td>mean_ep_reward</td><td>▁</td></tr><tr><td>reward</td><td>▁▁▁▄▂▃▃▁▁▁▅▂▁▁▃▅▄▂▂▁█▁▄▄▂▂▁▂▃▂▁▁▂▄▁▃▂▃▄▁</td></tr></table><br/></div><div class=\"wandb-col\"><h3>Run summary:</h3><br/><table class=\"wandb\"><tr><td>mean_ep_reward</td><td>59.17612</td></tr><tr><td>reward</td><td>13</td></tr></table><br/></div></div>"
      ],
      "text/plain": [
       "<IPython.core.display.HTML object>"
      ]
     },
     "metadata": {},
     "output_type": "display_data"
    },
    {
     "data": {
      "text/html": [
       " View run <strong style=\"color:#cdcd00\">different-sweep-8</strong> at: <a href='https://wandb.ai/hugoderohanwillner/flappy_mc_sweep_v3/runs/pswrda6w' target=\"_blank\">https://wandb.ai/hugoderohanwillner/flappy_mc_sweep_v3/runs/pswrda6w</a><br/>Synced 6 W&B file(s), 0 media file(s), 0 artifact file(s) and 0 other file(s)"
      ],
      "text/plain": [
       "<IPython.core.display.HTML object>"
      ]
     },
     "metadata": {},
     "output_type": "display_data"
    },
    {
     "data": {
      "text/html": [
       "Find logs at: <code>./wandb/run-20240412_151032-pswrda6w/logs</code>"
      ],
      "text/plain": [
       "<IPython.core.display.HTML object>"
      ]
     },
     "metadata": {},
     "output_type": "display_data"
    },
    {
     "name": "stderr",
     "output_type": "stream",
     "text": [
      "\u001b[34m\u001b[1mwandb\u001b[0m: Agent Starting Run: zg2qy2q7 with config:\n",
      "\u001b[34m\u001b[1mwandb\u001b[0m: \talpha: 0.08787717536070289\n",
      "\u001b[34m\u001b[1mwandb\u001b[0m: \teps_decay: 0.99\n",
      "\u001b[34m\u001b[1mwandb\u001b[0m: \teps_start: 0.75\n",
      "Failed to detect the name of this notebook, you can set it manually with the WANDB_NOTEBOOK_NAME environment variable to enable code saving.\n",
      "\u001b[34m\u001b[1mwandb\u001b[0m: \u001b[33mWARNING\u001b[0m Ignored wandb.init() arg project when running a sweep.\n"
     ]
    },
    {
     "data": {
      "text/html": [
       "wandb version 0.16.6 is available!  To upgrade, please run:\n",
       " $ pip install wandb --upgrade"
      ],
      "text/plain": [
       "<IPython.core.display.HTML object>"
      ]
     },
     "metadata": {},
     "output_type": "display_data"
    },
    {
     "data": {
      "text/html": [
       "Tracking run with wandb version 0.16.4"
      ],
      "text/plain": [
       "<IPython.core.display.HTML object>"
      ]
     },
     "metadata": {},
     "output_type": "display_data"
    },
    {
     "data": {
      "text/html": [
       "Run data is saved locally in <code>/Users/hugoderohanwillner/Documents/MSc AI/S2 Courses/RL/Personal Project/wandb/run-20240412_151059-zg2qy2q7</code>"
      ],
      "text/plain": [
       "<IPython.core.display.HTML object>"
      ]
     },
     "metadata": {},
     "output_type": "display_data"
    },
    {
     "data": {
      "text/html": [
       "Syncing run <strong><a href='https://wandb.ai/hugoderohanwillner/flappy_mc_sweep_v3/runs/zg2qy2q7' target=\"_blank\">laced-sweep-9</a></strong> to <a href='https://wandb.ai/hugoderohanwillner/flappy_mc_sweep_v3' target=\"_blank\">Weights & Biases</a> (<a href='https://wandb.me/run' target=\"_blank\">docs</a>)<br/>Sweep page: <a href='https://wandb.ai/hugoderohanwillner/flappy_mc_sweep_v3/sweeps/whool4g0' target=\"_blank\">https://wandb.ai/hugoderohanwillner/flappy_mc_sweep_v3/sweeps/whool4g0</a>"
      ],
      "text/plain": [
       "<IPython.core.display.HTML object>"
      ]
     },
     "metadata": {},
     "output_type": "display_data"
    },
    {
     "data": {
      "text/html": [
       " View project at <a href='https://wandb.ai/hugoderohanwillner/flappy_mc_sweep_v3' target=\"_blank\">https://wandb.ai/hugoderohanwillner/flappy_mc_sweep_v3</a>"
      ],
      "text/plain": [
       "<IPython.core.display.HTML object>"
      ]
     },
     "metadata": {},
     "output_type": "display_data"
    },
    {
     "data": {
      "text/html": [
       " View sweep at <a href='https://wandb.ai/hugoderohanwillner/flappy_mc_sweep_v3/sweeps/whool4g0' target=\"_blank\">https://wandb.ai/hugoderohanwillner/flappy_mc_sweep_v3/sweeps/whool4g0</a>"
      ],
      "text/plain": [
       "<IPython.core.display.HTML object>"
      ]
     },
     "metadata": {},
     "output_type": "display_data"
    },
    {
     "data": {
      "text/html": [
       " View run at <a href='https://wandb.ai/hugoderohanwillner/flappy_mc_sweep_v3/runs/zg2qy2q7' target=\"_blank\">https://wandb.ai/hugoderohanwillner/flappy_mc_sweep_v3/runs/zg2qy2q7</a>"
      ],
      "text/plain": [
       "<IPython.core.display.HTML object>"
      ]
     },
     "metadata": {},
     "output_type": "display_data"
    },
    {
     "name": "stderr",
     "output_type": "stream",
     "text": [
      "100%|██████████| 8000/8000 [01:53<00:00, 70.56it/s] \n"
     ]
    },
    {
     "data": {
      "text/html": [
       "<style>\n",
       "    table.wandb td:nth-child(1) { padding: 0 10px; text-align: left ; width: auto;} td:nth-child(2) {text-align: left ; width: 100%}\n",
       "    .wandb-row { display: flex; flex-direction: row; flex-wrap: wrap; justify-content: flex-start; width: 100% }\n",
       "    .wandb-col { display: flex; flex-direction: column; flex-basis: 100%; flex: 1; padding: 10px; }\n",
       "    </style>\n",
       "<div class=\"wandb-row\"><div class=\"wandb-col\"><h3>Run history:</h3><br/><table class=\"wandb\"><tr><td>mean_ep_reward</td><td>▁</td></tr><tr><td>reward</td><td>▁▃▄█▄▃█▅▅████▂▄▇█▄█▆██▄███▇██▇██▁▄██▂███</td></tr></table><br/></div><div class=\"wandb-col\"><h3>Run summary:</h3><br/><table class=\"wandb\"><tr><td>mean_ep_reward</td><td>390.21</td></tr><tr><td>reward</td><td>501</td></tr></table><br/></div></div>"
      ],
      "text/plain": [
       "<IPython.core.display.HTML object>"
      ]
     },
     "metadata": {},
     "output_type": "display_data"
    },
    {
     "data": {
      "text/html": [
       " View run <strong style=\"color:#cdcd00\">laced-sweep-9</strong> at: <a href='https://wandb.ai/hugoderohanwillner/flappy_mc_sweep_v3/runs/zg2qy2q7' target=\"_blank\">https://wandb.ai/hugoderohanwillner/flappy_mc_sweep_v3/runs/zg2qy2q7</a><br/>Synced 6 W&B file(s), 0 media file(s), 0 artifact file(s) and 0 other file(s)"
      ],
      "text/plain": [
       "<IPython.core.display.HTML object>"
      ]
     },
     "metadata": {},
     "output_type": "display_data"
    },
    {
     "data": {
      "text/html": [
       "Find logs at: <code>./wandb/run-20240412_151059-zg2qy2q7/logs</code>"
      ],
      "text/plain": [
       "<IPython.core.display.HTML object>"
      ]
     },
     "metadata": {},
     "output_type": "display_data"
    },
    {
     "name": "stderr",
     "output_type": "stream",
     "text": [
      "\u001b[34m\u001b[1mwandb\u001b[0m: Agent Starting Run: 0vpjdhkr with config:\n",
      "\u001b[34m\u001b[1mwandb\u001b[0m: \talpha: 0.0510334274415497\n",
      "\u001b[34m\u001b[1mwandb\u001b[0m: \teps_decay: 0.99\n",
      "\u001b[34m\u001b[1mwandb\u001b[0m: \teps_start: 1\n",
      "Failed to detect the name of this notebook, you can set it manually with the WANDB_NOTEBOOK_NAME environment variable to enable code saving.\n",
      "\u001b[34m\u001b[1mwandb\u001b[0m: \u001b[33mWARNING\u001b[0m Ignored wandb.init() arg project when running a sweep.\n"
     ]
    },
    {
     "data": {
      "text/html": [
       "wandb version 0.16.6 is available!  To upgrade, please run:\n",
       " $ pip install wandb --upgrade"
      ],
      "text/plain": [
       "<IPython.core.display.HTML object>"
      ]
     },
     "metadata": {},
     "output_type": "display_data"
    },
    {
     "data": {
      "text/html": [
       "Tracking run with wandb version 0.16.4"
      ],
      "text/plain": [
       "<IPython.core.display.HTML object>"
      ]
     },
     "metadata": {},
     "output_type": "display_data"
    },
    {
     "data": {
      "text/html": [
       "Run data is saved locally in <code>/Users/hugoderohanwillner/Documents/MSc AI/S2 Courses/RL/Personal Project/wandb/run-20240412_151306-0vpjdhkr</code>"
      ],
      "text/plain": [
       "<IPython.core.display.HTML object>"
      ]
     },
     "metadata": {},
     "output_type": "display_data"
    },
    {
     "data": {
      "text/html": [
       "Syncing run <strong><a href='https://wandb.ai/hugoderohanwillner/flappy_mc_sweep_v3/runs/0vpjdhkr' target=\"_blank\">pretty-sweep-10</a></strong> to <a href='https://wandb.ai/hugoderohanwillner/flappy_mc_sweep_v3' target=\"_blank\">Weights & Biases</a> (<a href='https://wandb.me/run' target=\"_blank\">docs</a>)<br/>Sweep page: <a href='https://wandb.ai/hugoderohanwillner/flappy_mc_sweep_v3/sweeps/whool4g0' target=\"_blank\">https://wandb.ai/hugoderohanwillner/flappy_mc_sweep_v3/sweeps/whool4g0</a>"
      ],
      "text/plain": [
       "<IPython.core.display.HTML object>"
      ]
     },
     "metadata": {},
     "output_type": "display_data"
    },
    {
     "data": {
      "text/html": [
       " View project at <a href='https://wandb.ai/hugoderohanwillner/flappy_mc_sweep_v3' target=\"_blank\">https://wandb.ai/hugoderohanwillner/flappy_mc_sweep_v3</a>"
      ],
      "text/plain": [
       "<IPython.core.display.HTML object>"
      ]
     },
     "metadata": {},
     "output_type": "display_data"
    },
    {
     "data": {
      "text/html": [
       " View sweep at <a href='https://wandb.ai/hugoderohanwillner/flappy_mc_sweep_v3/sweeps/whool4g0' target=\"_blank\">https://wandb.ai/hugoderohanwillner/flappy_mc_sweep_v3/sweeps/whool4g0</a>"
      ],
      "text/plain": [
       "<IPython.core.display.HTML object>"
      ]
     },
     "metadata": {},
     "output_type": "display_data"
    },
    {
     "data": {
      "text/html": [
       " View run at <a href='https://wandb.ai/hugoderohanwillner/flappy_mc_sweep_v3/runs/0vpjdhkr' target=\"_blank\">https://wandb.ai/hugoderohanwillner/flappy_mc_sweep_v3/runs/0vpjdhkr</a>"
      ],
      "text/plain": [
       "<IPython.core.display.HTML object>"
      ]
     },
     "metadata": {},
     "output_type": "display_data"
    },
    {
     "name": "stderr",
     "output_type": "stream",
     "text": [
      "100%|██████████| 8000/8000 [00:09<00:00, 854.90it/s]\n"
     ]
    },
    {
     "data": {
      "text/html": [
       "<style>\n",
       "    table.wandb td:nth-child(1) { padding: 0 10px; text-align: left ; width: auto;} td:nth-child(2) {text-align: left ; width: 100%}\n",
       "    .wandb-row { display: flex; flex-direction: row; flex-wrap: wrap; justify-content: flex-start; width: 100% }\n",
       "    .wandb-col { display: flex; flex-direction: column; flex-basis: 100%; flex: 1; padding: 10px; }\n",
       "    </style>\n",
       "<div class=\"wandb-row\"><div class=\"wandb-col\"><h3>Run history:</h3><br/><table class=\"wandb\"><tr><td>mean_ep_reward</td><td>▁</td></tr><tr><td>reward</td><td>▁▁▂▄▁▁▃▁▂▄▁▃▄▂▁▂▃▁▂▂▄▂▂█▂▁▇▇▁▄▁▁▁▃▆▃▂▄▃▁</td></tr></table><br/></div><div class=\"wandb-col\"><h3>Run summary:</h3><br/><table class=\"wandb\"><tr><td>mean_ep_reward</td><td>50.56525</td></tr><tr><td>reward</td><td>15</td></tr></table><br/></div></div>"
      ],
      "text/plain": [
       "<IPython.core.display.HTML object>"
      ]
     },
     "metadata": {},
     "output_type": "display_data"
    },
    {
     "data": {
      "text/html": [
       " View run <strong style=\"color:#cdcd00\">pretty-sweep-10</strong> at: <a href='https://wandb.ai/hugoderohanwillner/flappy_mc_sweep_v3/runs/0vpjdhkr' target=\"_blank\">https://wandb.ai/hugoderohanwillner/flappy_mc_sweep_v3/runs/0vpjdhkr</a><br/>Synced 6 W&B file(s), 0 media file(s), 0 artifact file(s) and 0 other file(s)"
      ],
      "text/plain": [
       "<IPython.core.display.HTML object>"
      ]
     },
     "metadata": {},
     "output_type": "display_data"
    },
    {
     "data": {
      "text/html": [
       "Find logs at: <code>./wandb/run-20240412_151306-0vpjdhkr/logs</code>"
      ],
      "text/plain": [
       "<IPython.core.display.HTML object>"
      ]
     },
     "metadata": {},
     "output_type": "display_data"
    }
   ],
   "source": [
    "# MC PARAM SWEEP\n",
    "\n",
    "wandb.login()\n",
    "\n",
    "# 1: Define objective/training function\n",
    "def objective(config):\n",
    "    # Hardcoded:\n",
    "    num_episodes = 8000\n",
    "    eps_min = 0\n",
    "    max_ep_length = 500\n",
    "    gamma = 1\n",
    "    wandb_run_tracking = False\n",
    "    wandb_sweep = True\n",
    "\n",
    "    # From config\n",
    "    alpha = config.alpha\n",
    "    eps_start = config.eps_start\n",
    "    eps_decay = config.eps_decay\n",
    "\n",
    "    # Setup environment\n",
    "    env = gym.make('TextFlappyBird-v0', height = 15, width = 20, pipe_gap = 4)\n",
    "\n",
    "    # Run training\n",
    "    policy, Q, mean_ep_reward = mc_control(env, num_episodes, alpha, gamma=gamma, eps_start=eps_start, eps_decay=eps_decay, eps_min=eps_min, wandb_tracking=wandb_run_tracking, wandb_sweep=wandb_sweep, max_ep_length = max_ep_length)\n",
    "\n",
    "    return mean_ep_reward\n",
    "\n",
    "def main():\n",
    "    wandb.init(project=\"flappy_mc_sweep_v3\")\n",
    "    mean_ep_reward = objective(wandb.config)\n",
    "    wandb.log({\"mean_ep_reward\": mean_ep_reward})\n",
    "\n",
    "# 2: Define the search space\n",
    "sweep_configuration = {\n",
    "    \"method\": \"bayes\",\n",
    "    \"metric\": {\"goal\": \"maximize\", \"name\": \"mean_ep_reward\"},\n",
    "    \"parameters\": {\n",
    "        \"alpha\": {\"max\": 0.1, \"min\": 0.001},\n",
    "        \"eps_start\": {\"values\": [1, 0.75, 0.5]},\n",
    "        \"eps_decay\": {\"values\": [0.999, 0.99, 0.9]},\n",
    "    },\n",
    "}\n",
    "\n",
    "# 3: Start the sweep\n",
    "sweep_id = wandb.sweep(sweep=sweep_configuration, project=\"flappy_mc_sweep_v3\")\n",
    "\n",
    "wandb.agent(sweep_id, function=main, count=10)"
   ]
  },
  {
   "cell_type": "code",
   "execution_count": 7,
   "metadata": {},
   "outputs": [
    {
     "name": "stdout",
     "output_type": "stream",
     "text": [
      "Create sweep with ID: fgbzgdlm\n",
      "Sweep URL: https://wandb.ai/hugoderohanwillner/flappy_mc_sweep_v3/sweeps/fgbzgdlm\n"
     ]
    },
    {
     "name": "stderr",
     "output_type": "stream",
     "text": [
      "\u001b[34m\u001b[1mwandb\u001b[0m: Agent Starting Run: pkql3nuj with config:\n",
      "\u001b[34m\u001b[1mwandb\u001b[0m: \talpha: 0.025949463198413732\n",
      "\u001b[34m\u001b[1mwandb\u001b[0m: \teps_decay: 0.9999\n",
      "\u001b[34m\u001b[1mwandb\u001b[0m: \teps_start: 1\n",
      "\u001b[34m\u001b[1mwandb\u001b[0m: \tlambda_: 0.22189798481823475\n",
      "Failed to detect the name of this notebook, you can set it manually with the WANDB_NOTEBOOK_NAME environment variable to enable code saving.\n",
      "\u001b[34m\u001b[1mwandb\u001b[0m: \u001b[33mWARNING\u001b[0m Ignored wandb.init() arg project when running a sweep.\n"
     ]
    },
    {
     "data": {
      "text/html": [
       "wandb version 0.16.6 is available!  To upgrade, please run:\n",
       " $ pip install wandb --upgrade"
      ],
      "text/plain": [
       "<IPython.core.display.HTML object>"
      ]
     },
     "metadata": {},
     "output_type": "display_data"
    },
    {
     "data": {
      "text/html": [
       "Tracking run with wandb version 0.16.4"
      ],
      "text/plain": [
       "<IPython.core.display.HTML object>"
      ]
     },
     "metadata": {},
     "output_type": "display_data"
    },
    {
     "data": {
      "text/html": [
       "Run data is saved locally in <code>/Users/hugoderohanwillner/Documents/MSc AI/S2 Courses/RL/Personal Project/wandb/run-20240412_164522-pkql3nuj</code>"
      ],
      "text/plain": [
       "<IPython.core.display.HTML object>"
      ]
     },
     "metadata": {},
     "output_type": "display_data"
    },
    {
     "data": {
      "text/html": [
       "Syncing run <strong><a href='https://wandb.ai/hugoderohanwillner/flappy_mc_sweep_v3/runs/pkql3nuj' target=\"_blank\">solar-sweep-1</a></strong> to <a href='https://wandb.ai/hugoderohanwillner/flappy_mc_sweep_v3' target=\"_blank\">Weights & Biases</a> (<a href='https://wandb.me/run' target=\"_blank\">docs</a>)<br/>Sweep page: <a href='https://wandb.ai/hugoderohanwillner/flappy_mc_sweep_v3/sweeps/fgbzgdlm' target=\"_blank\">https://wandb.ai/hugoderohanwillner/flappy_mc_sweep_v3/sweeps/fgbzgdlm</a>"
      ],
      "text/plain": [
       "<IPython.core.display.HTML object>"
      ]
     },
     "metadata": {},
     "output_type": "display_data"
    },
    {
     "data": {
      "text/html": [
       " View project at <a href='https://wandb.ai/hugoderohanwillner/flappy_mc_sweep_v3' target=\"_blank\">https://wandb.ai/hugoderohanwillner/flappy_mc_sweep_v3</a>"
      ],
      "text/plain": [
       "<IPython.core.display.HTML object>"
      ]
     },
     "metadata": {},
     "output_type": "display_data"
    },
    {
     "data": {
      "text/html": [
       " View sweep at <a href='https://wandb.ai/hugoderohanwillner/flappy_mc_sweep_v3/sweeps/fgbzgdlm' target=\"_blank\">https://wandb.ai/hugoderohanwillner/flappy_mc_sweep_v3/sweeps/fgbzgdlm</a>"
      ],
      "text/plain": [
       "<IPython.core.display.HTML object>"
      ]
     },
     "metadata": {},
     "output_type": "display_data"
    },
    {
     "data": {
      "text/html": [
       " View run at <a href='https://wandb.ai/hugoderohanwillner/flappy_mc_sweep_v3/runs/pkql3nuj' target=\"_blank\">https://wandb.ai/hugoderohanwillner/flappy_mc_sweep_v3/runs/pkql3nuj</a>"
      ],
      "text/plain": [
       "<IPython.core.display.HTML object>"
      ]
     },
     "metadata": {},
     "output_type": "display_data"
    },
    {
     "name": "stderr",
     "output_type": "stream",
     "text": [
      "100%|██████████| 8000/8000 [00:48<00:00, 166.59it/s]\n"
     ]
    },
    {
     "data": {
      "text/html": [
       "<style>\n",
       "    table.wandb td:nth-child(1) { padding: 0 10px; text-align: left ; width: auto;} td:nth-child(2) {text-align: left ; width: 100%}\n",
       "    .wandb-row { display: flex; flex-direction: row; flex-wrap: wrap; justify-content: flex-start; width: 100% }\n",
       "    .wandb-col { display: flex; flex-direction: column; flex-basis: 100%; flex: 1; padding: 10px; }\n",
       "    </style>\n",
       "<div class=\"wandb-row\"><div class=\"wandb-col\"><h3>Run history:</h3><br/><table class=\"wandb\"><tr><td>mean_ep_reward</td><td>▁</td></tr><tr><td>reward</td><td>▁▂▂▂▁▁▂▂▂▂▂▁▂▁▂▁▂▂▃▂▃▆▃▁▂▃▃▂▂▃▂▂▅▄▁▂█▃▃▄</td></tr></table><br/></div><div class=\"wandb-col\"><h3>Run summary:</h3><br/><table class=\"wandb\"><tr><td>mean_ep_reward</td><td>16.86575</td></tr><tr><td>reward</td><td>23</td></tr></table><br/></div></div>"
      ],
      "text/plain": [
       "<IPython.core.display.HTML object>"
      ]
     },
     "metadata": {},
     "output_type": "display_data"
    },
    {
     "data": {
      "text/html": [
       " View run <strong style=\"color:#cdcd00\">solar-sweep-1</strong> at: <a href='https://wandb.ai/hugoderohanwillner/flappy_mc_sweep_v3/runs/pkql3nuj' target=\"_blank\">https://wandb.ai/hugoderohanwillner/flappy_mc_sweep_v3/runs/pkql3nuj</a><br/>Synced 6 W&B file(s), 0 media file(s), 0 artifact file(s) and 0 other file(s)"
      ],
      "text/plain": [
       "<IPython.core.display.HTML object>"
      ]
     },
     "metadata": {},
     "output_type": "display_data"
    },
    {
     "data": {
      "text/html": [
       "Find logs at: <code>./wandb/run-20240412_164522-pkql3nuj/logs</code>"
      ],
      "text/plain": [
       "<IPython.core.display.HTML object>"
      ]
     },
     "metadata": {},
     "output_type": "display_data"
    },
    {
     "name": "stderr",
     "output_type": "stream",
     "text": [
      "\u001b[34m\u001b[1mwandb\u001b[0m: Sweep Agent: Waiting for job.\n",
      "\u001b[34m\u001b[1mwandb\u001b[0m: Job received.\n",
      "\u001b[34m\u001b[1mwandb\u001b[0m: Agent Starting Run: q3z4k4rj with config:\n",
      "\u001b[34m\u001b[1mwandb\u001b[0m: \talpha: 0.007070462872956522\n",
      "\u001b[34m\u001b[1mwandb\u001b[0m: \teps_decay: 0.9999\n",
      "\u001b[34m\u001b[1mwandb\u001b[0m: \teps_start: 0.75\n",
      "\u001b[34m\u001b[1mwandb\u001b[0m: \tlambda_: 0.06662223174187791\n",
      "Failed to detect the name of this notebook, you can set it manually with the WANDB_NOTEBOOK_NAME environment variable to enable code saving.\n",
      "\u001b[34m\u001b[1mwandb\u001b[0m: \u001b[33mWARNING\u001b[0m Ignored wandb.init() arg project when running a sweep.\n"
     ]
    },
    {
     "data": {
      "text/html": [
       "wandb version 0.16.6 is available!  To upgrade, please run:\n",
       " $ pip install wandb --upgrade"
      ],
      "text/plain": [
       "<IPython.core.display.HTML object>"
      ]
     },
     "metadata": {},
     "output_type": "display_data"
    },
    {
     "data": {
      "text/html": [
       "Tracking run with wandb version 0.16.4"
      ],
      "text/plain": [
       "<IPython.core.display.HTML object>"
      ]
     },
     "metadata": {},
     "output_type": "display_data"
    },
    {
     "data": {
      "text/html": [
       "Run data is saved locally in <code>/Users/hugoderohanwillner/Documents/MSc AI/S2 Courses/RL/Personal Project/wandb/run-20240412_164630-q3z4k4rj</code>"
      ],
      "text/plain": [
       "<IPython.core.display.HTML object>"
      ]
     },
     "metadata": {},
     "output_type": "display_data"
    },
    {
     "data": {
      "text/html": [
       "Syncing run <strong><a href='https://wandb.ai/hugoderohanwillner/flappy_mc_sweep_v3/runs/q3z4k4rj' target=\"_blank\">autumn-sweep-2</a></strong> to <a href='https://wandb.ai/hugoderohanwillner/flappy_mc_sweep_v3' target=\"_blank\">Weights & Biases</a> (<a href='https://wandb.me/run' target=\"_blank\">docs</a>)<br/>Sweep page: <a href='https://wandb.ai/hugoderohanwillner/flappy_mc_sweep_v3/sweeps/fgbzgdlm' target=\"_blank\">https://wandb.ai/hugoderohanwillner/flappy_mc_sweep_v3/sweeps/fgbzgdlm</a>"
      ],
      "text/plain": [
       "<IPython.core.display.HTML object>"
      ]
     },
     "metadata": {},
     "output_type": "display_data"
    },
    {
     "data": {
      "text/html": [
       " View project at <a href='https://wandb.ai/hugoderohanwillner/flappy_mc_sweep_v3' target=\"_blank\">https://wandb.ai/hugoderohanwillner/flappy_mc_sweep_v3</a>"
      ],
      "text/plain": [
       "<IPython.core.display.HTML object>"
      ]
     },
     "metadata": {},
     "output_type": "display_data"
    },
    {
     "data": {
      "text/html": [
       " View sweep at <a href='https://wandb.ai/hugoderohanwillner/flappy_mc_sweep_v3/sweeps/fgbzgdlm' target=\"_blank\">https://wandb.ai/hugoderohanwillner/flappy_mc_sweep_v3/sweeps/fgbzgdlm</a>"
      ],
      "text/plain": [
       "<IPython.core.display.HTML object>"
      ]
     },
     "metadata": {},
     "output_type": "display_data"
    },
    {
     "data": {
      "text/html": [
       " View run at <a href='https://wandb.ai/hugoderohanwillner/flappy_mc_sweep_v3/runs/q3z4k4rj' target=\"_blank\">https://wandb.ai/hugoderohanwillner/flappy_mc_sweep_v3/runs/q3z4k4rj</a>"
      ],
      "text/plain": [
       "<IPython.core.display.HTML object>"
      ]
     },
     "metadata": {},
     "output_type": "display_data"
    },
    {
     "name": "stderr",
     "output_type": "stream",
     "text": [
      "100%|██████████| 8000/8000 [00:31<00:00, 253.04it/s]\n"
     ]
    },
    {
     "data": {
      "text/html": [
       "<style>\n",
       "    table.wandb td:nth-child(1) { padding: 0 10px; text-align: left ; width: auto;} td:nth-child(2) {text-align: left ; width: 100%}\n",
       "    .wandb-row { display: flex; flex-direction: row; flex-wrap: wrap; justify-content: flex-start; width: 100% }\n",
       "    .wandb-col { display: flex; flex-direction: column; flex-basis: 100%; flex: 1; padding: 10px; }\n",
       "    </style>\n",
       "<div class=\"wandb-row\"><div class=\"wandb-col\"><h3>Run history:</h3><br/><table class=\"wandb\"><tr><td>mean_ep_reward</td><td>▁</td></tr><tr><td>reward</td><td>▃▁▁▃▂▂▁▃▃▃▂▃▃▃▃▂▁▃▃▄▃▂▆▁▂▃▃█▄▃▁▁▂▁▁▆▄▂▁▆</td></tr></table><br/></div><div class=\"wandb-col\"><h3>Run summary:</h3><br/><table class=\"wandb\"><tr><td>mean_ep_reward</td><td>11.63275</td></tr><tr><td>reward</td><td>7</td></tr></table><br/></div></div>"
      ],
      "text/plain": [
       "<IPython.core.display.HTML object>"
      ]
     },
     "metadata": {},
     "output_type": "display_data"
    },
    {
     "data": {
      "text/html": [
       " View run <strong style=\"color:#cdcd00\">autumn-sweep-2</strong> at: <a href='https://wandb.ai/hugoderohanwillner/flappy_mc_sweep_v3/runs/q3z4k4rj' target=\"_blank\">https://wandb.ai/hugoderohanwillner/flappy_mc_sweep_v3/runs/q3z4k4rj</a><br/>Synced 6 W&B file(s), 0 media file(s), 0 artifact file(s) and 0 other file(s)"
      ],
      "text/plain": [
       "<IPython.core.display.HTML object>"
      ]
     },
     "metadata": {},
     "output_type": "display_data"
    },
    {
     "data": {
      "text/html": [
       "Find logs at: <code>./wandb/run-20240412_164630-q3z4k4rj/logs</code>"
      ],
      "text/plain": [
       "<IPython.core.display.HTML object>"
      ]
     },
     "metadata": {},
     "output_type": "display_data"
    },
    {
     "name": "stderr",
     "output_type": "stream",
     "text": [
      "\u001b[34m\u001b[1mwandb\u001b[0m: Agent Starting Run: w5s8svrw with config:\n",
      "\u001b[34m\u001b[1mwandb\u001b[0m: \talpha: 0.047973171497586654\n",
      "\u001b[34m\u001b[1mwandb\u001b[0m: \teps_decay: 0.9999\n",
      "\u001b[34m\u001b[1mwandb\u001b[0m: \teps_start: 1\n",
      "\u001b[34m\u001b[1mwandb\u001b[0m: \tlambda_: 0.12711569374996573\n",
      "Failed to detect the name of this notebook, you can set it manually with the WANDB_NOTEBOOK_NAME environment variable to enable code saving.\n",
      "\u001b[34m\u001b[1mwandb\u001b[0m: \u001b[33mWARNING\u001b[0m Ignored wandb.init() arg project when running a sweep.\n"
     ]
    },
    {
     "data": {
      "text/html": [
       "wandb version 0.16.6 is available!  To upgrade, please run:\n",
       " $ pip install wandb --upgrade"
      ],
      "text/plain": [
       "<IPython.core.display.HTML object>"
      ]
     },
     "metadata": {},
     "output_type": "display_data"
    },
    {
     "data": {
      "text/html": [
       "Tracking run with wandb version 0.16.4"
      ],
      "text/plain": [
       "<IPython.core.display.HTML object>"
      ]
     },
     "metadata": {},
     "output_type": "display_data"
    },
    {
     "data": {
      "text/html": [
       "Run data is saved locally in <code>/Users/hugoderohanwillner/Documents/MSc AI/S2 Courses/RL/Personal Project/wandb/run-20240412_164712-w5s8svrw</code>"
      ],
      "text/plain": [
       "<IPython.core.display.HTML object>"
      ]
     },
     "metadata": {},
     "output_type": "display_data"
    },
    {
     "data": {
      "text/html": [
       "Syncing run <strong><a href='https://wandb.ai/hugoderohanwillner/flappy_mc_sweep_v3/runs/w5s8svrw' target=\"_blank\">vague-sweep-3</a></strong> to <a href='https://wandb.ai/hugoderohanwillner/flappy_mc_sweep_v3' target=\"_blank\">Weights & Biases</a> (<a href='https://wandb.me/run' target=\"_blank\">docs</a>)<br/>Sweep page: <a href='https://wandb.ai/hugoderohanwillner/flappy_mc_sweep_v3/sweeps/fgbzgdlm' target=\"_blank\">https://wandb.ai/hugoderohanwillner/flappy_mc_sweep_v3/sweeps/fgbzgdlm</a>"
      ],
      "text/plain": [
       "<IPython.core.display.HTML object>"
      ]
     },
     "metadata": {},
     "output_type": "display_data"
    },
    {
     "data": {
      "text/html": [
       " View project at <a href='https://wandb.ai/hugoderohanwillner/flappy_mc_sweep_v3' target=\"_blank\">https://wandb.ai/hugoderohanwillner/flappy_mc_sweep_v3</a>"
      ],
      "text/plain": [
       "<IPython.core.display.HTML object>"
      ]
     },
     "metadata": {},
     "output_type": "display_data"
    },
    {
     "data": {
      "text/html": [
       " View sweep at <a href='https://wandb.ai/hugoderohanwillner/flappy_mc_sweep_v3/sweeps/fgbzgdlm' target=\"_blank\">https://wandb.ai/hugoderohanwillner/flappy_mc_sweep_v3/sweeps/fgbzgdlm</a>"
      ],
      "text/plain": [
       "<IPython.core.display.HTML object>"
      ]
     },
     "metadata": {},
     "output_type": "display_data"
    },
    {
     "data": {
      "text/html": [
       " View run at <a href='https://wandb.ai/hugoderohanwillner/flappy_mc_sweep_v3/runs/w5s8svrw' target=\"_blank\">https://wandb.ai/hugoderohanwillner/flappy_mc_sweep_v3/runs/w5s8svrw</a>"
      ],
      "text/plain": [
       "<IPython.core.display.HTML object>"
      ]
     },
     "metadata": {},
     "output_type": "display_data"
    },
    {
     "name": "stderr",
     "output_type": "stream",
     "text": [
      "100%|██████████| 8000/8000 [00:47<00:00, 169.05it/s]\n"
     ]
    },
    {
     "data": {
      "text/html": [
       "<style>\n",
       "    table.wandb td:nth-child(1) { padding: 0 10px; text-align: left ; width: auto;} td:nth-child(2) {text-align: left ; width: 100%}\n",
       "    .wandb-row { display: flex; flex-direction: row; flex-wrap: wrap; justify-content: flex-start; width: 100% }\n",
       "    .wandb-col { display: flex; flex-direction: column; flex-basis: 100%; flex: 1; padding: 10px; }\n",
       "    </style>\n",
       "<div class=\"wandb-row\"><div class=\"wandb-col\"><h3>Run history:</h3><br/><table class=\"wandb\"><tr><td>mean_ep_reward</td><td>▁</td></tr><tr><td>reward</td><td>▃▂▁▁▂▃▃▃▁▄▄▂▃▃▂▄▂▃▁▄▂▄▂▂▂▂▁▃▃▄▄▄▆▁▆█▄▆▄▁</td></tr></table><br/></div><div class=\"wandb-col\"><h3>Run summary:</h3><br/><table class=\"wandb\"><tr><td>mean_ep_reward</td><td>17.588</td></tr><tr><td>reward</td><td>13</td></tr></table><br/></div></div>"
      ],
      "text/plain": [
       "<IPython.core.display.HTML object>"
      ]
     },
     "metadata": {},
     "output_type": "display_data"
    },
    {
     "data": {
      "text/html": [
       " View run <strong style=\"color:#cdcd00\">vague-sweep-3</strong> at: <a href='https://wandb.ai/hugoderohanwillner/flappy_mc_sweep_v3/runs/w5s8svrw' target=\"_blank\">https://wandb.ai/hugoderohanwillner/flappy_mc_sweep_v3/runs/w5s8svrw</a><br/>Synced 6 W&B file(s), 0 media file(s), 0 artifact file(s) and 0 other file(s)"
      ],
      "text/plain": [
       "<IPython.core.display.HTML object>"
      ]
     },
     "metadata": {},
     "output_type": "display_data"
    },
    {
     "data": {
      "text/html": [
       "Find logs at: <code>./wandb/run-20240412_164712-w5s8svrw/logs</code>"
      ],
      "text/plain": [
       "<IPython.core.display.HTML object>"
      ]
     },
     "metadata": {},
     "output_type": "display_data"
    },
    {
     "name": "stderr",
     "output_type": "stream",
     "text": [
      "\u001b[34m\u001b[1mwandb\u001b[0m: Agent Starting Run: u1wxlemv with config:\n",
      "\u001b[34m\u001b[1mwandb\u001b[0m: \talpha: 0.04817523371103546\n",
      "\u001b[34m\u001b[1mwandb\u001b[0m: \teps_decay: 0.9999\n",
      "\u001b[34m\u001b[1mwandb\u001b[0m: \teps_start: 1\n",
      "\u001b[34m\u001b[1mwandb\u001b[0m: \tlambda_: 0.1798882345818887\n",
      "Failed to detect the name of this notebook, you can set it manually with the WANDB_NOTEBOOK_NAME environment variable to enable code saving.\n",
      "\u001b[34m\u001b[1mwandb\u001b[0m: \u001b[33mWARNING\u001b[0m Ignored wandb.init() arg project when running a sweep.\n"
     ]
    },
    {
     "data": {
      "text/html": [
       "wandb version 0.16.6 is available!  To upgrade, please run:\n",
       " $ pip install wandb --upgrade"
      ],
      "text/plain": [
       "<IPython.core.display.HTML object>"
      ]
     },
     "metadata": {},
     "output_type": "display_data"
    },
    {
     "data": {
      "text/html": [
       "Tracking run with wandb version 0.16.4"
      ],
      "text/plain": [
       "<IPython.core.display.HTML object>"
      ]
     },
     "metadata": {},
     "output_type": "display_data"
    },
    {
     "data": {
      "text/html": [
       "Run data is saved locally in <code>/Users/hugoderohanwillner/Documents/MSc AI/S2 Courses/RL/Personal Project/wandb/run-20240412_164810-u1wxlemv</code>"
      ],
      "text/plain": [
       "<IPython.core.display.HTML object>"
      ]
     },
     "metadata": {},
     "output_type": "display_data"
    },
    {
     "data": {
      "text/html": [
       "Syncing run <strong><a href='https://wandb.ai/hugoderohanwillner/flappy_mc_sweep_v3/runs/u1wxlemv' target=\"_blank\">stoic-sweep-4</a></strong> to <a href='https://wandb.ai/hugoderohanwillner/flappy_mc_sweep_v3' target=\"_blank\">Weights & Biases</a> (<a href='https://wandb.me/run' target=\"_blank\">docs</a>)<br/>Sweep page: <a href='https://wandb.ai/hugoderohanwillner/flappy_mc_sweep_v3/sweeps/fgbzgdlm' target=\"_blank\">https://wandb.ai/hugoderohanwillner/flappy_mc_sweep_v3/sweeps/fgbzgdlm</a>"
      ],
      "text/plain": [
       "<IPython.core.display.HTML object>"
      ]
     },
     "metadata": {},
     "output_type": "display_data"
    },
    {
     "data": {
      "text/html": [
       " View project at <a href='https://wandb.ai/hugoderohanwillner/flappy_mc_sweep_v3' target=\"_blank\">https://wandb.ai/hugoderohanwillner/flappy_mc_sweep_v3</a>"
      ],
      "text/plain": [
       "<IPython.core.display.HTML object>"
      ]
     },
     "metadata": {},
     "output_type": "display_data"
    },
    {
     "data": {
      "text/html": [
       " View sweep at <a href='https://wandb.ai/hugoderohanwillner/flappy_mc_sweep_v3/sweeps/fgbzgdlm' target=\"_blank\">https://wandb.ai/hugoderohanwillner/flappy_mc_sweep_v3/sweeps/fgbzgdlm</a>"
      ],
      "text/plain": [
       "<IPython.core.display.HTML object>"
      ]
     },
     "metadata": {},
     "output_type": "display_data"
    },
    {
     "data": {
      "text/html": [
       " View run at <a href='https://wandb.ai/hugoderohanwillner/flappy_mc_sweep_v3/runs/u1wxlemv' target=\"_blank\">https://wandb.ai/hugoderohanwillner/flappy_mc_sweep_v3/runs/u1wxlemv</a>"
      ],
      "text/plain": [
       "<IPython.core.display.HTML object>"
      ]
     },
     "metadata": {},
     "output_type": "display_data"
    },
    {
     "name": "stderr",
     "output_type": "stream",
     "text": [
      "100%|██████████| 8000/8000 [00:48<00:00, 165.30it/s]\n"
     ]
    },
    {
     "data": {
      "text/html": [
       "<style>\n",
       "    table.wandb td:nth-child(1) { padding: 0 10px; text-align: left ; width: auto;} td:nth-child(2) {text-align: left ; width: 100%}\n",
       "    .wandb-row { display: flex; flex-direction: row; flex-wrap: wrap; justify-content: flex-start; width: 100% }\n",
       "    .wandb-col { display: flex; flex-direction: column; flex-basis: 100%; flex: 1; padding: 10px; }\n",
       "    </style>\n",
       "<div class=\"wandb-row\"><div class=\"wandb-col\"><h3>Run history:</h3><br/><table class=\"wandb\"><tr><td>mean_ep_reward</td><td>▁</td></tr><tr><td>reward</td><td>▂▂▂▂▃▁▂▂▃▂▂▄▁▂█▂▂▁▂▂▁▅▁▂▁▁▁▂▂▄▅▄▃▄▃▅▂▇▇▄</td></tr></table><br/></div><div class=\"wandb-col\"><h3>Run summary:</h3><br/><table class=\"wandb\"><tr><td>mean_ep_reward</td><td>17.50787</td></tr><tr><td>reward</td><td>23</td></tr></table><br/></div></div>"
      ],
      "text/plain": [
       "<IPython.core.display.HTML object>"
      ]
     },
     "metadata": {},
     "output_type": "display_data"
    },
    {
     "data": {
      "text/html": [
       " View run <strong style=\"color:#cdcd00\">stoic-sweep-4</strong> at: <a href='https://wandb.ai/hugoderohanwillner/flappy_mc_sweep_v3/runs/u1wxlemv' target=\"_blank\">https://wandb.ai/hugoderohanwillner/flappy_mc_sweep_v3/runs/u1wxlemv</a><br/>Synced 6 W&B file(s), 0 media file(s), 0 artifact file(s) and 0 other file(s)"
      ],
      "text/plain": [
       "<IPython.core.display.HTML object>"
      ]
     },
     "metadata": {},
     "output_type": "display_data"
    },
    {
     "data": {
      "text/html": [
       "Find logs at: <code>./wandb/run-20240412_164810-u1wxlemv/logs</code>"
      ],
      "text/plain": [
       "<IPython.core.display.HTML object>"
      ]
     },
     "metadata": {},
     "output_type": "display_data"
    },
    {
     "name": "stderr",
     "output_type": "stream",
     "text": [
      "\u001b[34m\u001b[1mwandb\u001b[0m: Agent Starting Run: qchiolga with config:\n",
      "\u001b[34m\u001b[1mwandb\u001b[0m: \talpha: 0.054304751897024814\n",
      "\u001b[34m\u001b[1mwandb\u001b[0m: \teps_decay: 0.9999\n",
      "\u001b[34m\u001b[1mwandb\u001b[0m: \teps_start: 1\n",
      "\u001b[34m\u001b[1mwandb\u001b[0m: \tlambda_: 0.13137401801324564\n",
      "Failed to detect the name of this notebook, you can set it manually with the WANDB_NOTEBOOK_NAME environment variable to enable code saving.\n",
      "\u001b[34m\u001b[1mwandb\u001b[0m: \u001b[33mWARNING\u001b[0m Ignored wandb.init() arg project when running a sweep.\n"
     ]
    },
    {
     "data": {
      "text/html": [
       "wandb version 0.16.6 is available!  To upgrade, please run:\n",
       " $ pip install wandb --upgrade"
      ],
      "text/plain": [
       "<IPython.core.display.HTML object>"
      ]
     },
     "metadata": {},
     "output_type": "display_data"
    },
    {
     "data": {
      "text/html": [
       "Tracking run with wandb version 0.16.4"
      ],
      "text/plain": [
       "<IPython.core.display.HTML object>"
      ]
     },
     "metadata": {},
     "output_type": "display_data"
    },
    {
     "data": {
      "text/html": [
       "Run data is saved locally in <code>/Users/hugoderohanwillner/Documents/MSc AI/S2 Courses/RL/Personal Project/wandb/run-20240412_164913-qchiolga</code>"
      ],
      "text/plain": [
       "<IPython.core.display.HTML object>"
      ]
     },
     "metadata": {},
     "output_type": "display_data"
    },
    {
     "data": {
      "text/html": [
       "Syncing run <strong><a href='https://wandb.ai/hugoderohanwillner/flappy_mc_sweep_v3/runs/qchiolga' target=\"_blank\">dashing-sweep-5</a></strong> to <a href='https://wandb.ai/hugoderohanwillner/flappy_mc_sweep_v3' target=\"_blank\">Weights & Biases</a> (<a href='https://wandb.me/run' target=\"_blank\">docs</a>)<br/>Sweep page: <a href='https://wandb.ai/hugoderohanwillner/flappy_mc_sweep_v3/sweeps/fgbzgdlm' target=\"_blank\">https://wandb.ai/hugoderohanwillner/flappy_mc_sweep_v3/sweeps/fgbzgdlm</a>"
      ],
      "text/plain": [
       "<IPython.core.display.HTML object>"
      ]
     },
     "metadata": {},
     "output_type": "display_data"
    },
    {
     "data": {
      "text/html": [
       " View project at <a href='https://wandb.ai/hugoderohanwillner/flappy_mc_sweep_v3' target=\"_blank\">https://wandb.ai/hugoderohanwillner/flappy_mc_sweep_v3</a>"
      ],
      "text/plain": [
       "<IPython.core.display.HTML object>"
      ]
     },
     "metadata": {},
     "output_type": "display_data"
    },
    {
     "data": {
      "text/html": [
       " View sweep at <a href='https://wandb.ai/hugoderohanwillner/flappy_mc_sweep_v3/sweeps/fgbzgdlm' target=\"_blank\">https://wandb.ai/hugoderohanwillner/flappy_mc_sweep_v3/sweeps/fgbzgdlm</a>"
      ],
      "text/plain": [
       "<IPython.core.display.HTML object>"
      ]
     },
     "metadata": {},
     "output_type": "display_data"
    },
    {
     "data": {
      "text/html": [
       " View run at <a href='https://wandb.ai/hugoderohanwillner/flappy_mc_sweep_v3/runs/qchiolga' target=\"_blank\">https://wandb.ai/hugoderohanwillner/flappy_mc_sweep_v3/runs/qchiolga</a>"
      ],
      "text/plain": [
       "<IPython.core.display.HTML object>"
      ]
     },
     "metadata": {},
     "output_type": "display_data"
    },
    {
     "name": "stderr",
     "output_type": "stream",
     "text": [
      "100%|██████████| 8000/8000 [00:46<00:00, 170.71it/s]\n"
     ]
    },
    {
     "data": {
      "text/html": [
       "<style>\n",
       "    table.wandb td:nth-child(1) { padding: 0 10px; text-align: left ; width: auto;} td:nth-child(2) {text-align: left ; width: 100%}\n",
       "    .wandb-row { display: flex; flex-direction: row; flex-wrap: wrap; justify-content: flex-start; width: 100% }\n",
       "    .wandb-col { display: flex; flex-direction: column; flex-basis: 100%; flex: 1; padding: 10px; }\n",
       "    </style>\n",
       "<div class=\"wandb-row\"><div class=\"wandb-col\"><h3>Run history:</h3><br/><table class=\"wandb\"><tr><td>mean_ep_reward</td><td>▁</td></tr><tr><td>reward</td><td>▃▁▂▂▂▁▂▂▁▂▂▃▂▃█▂▄▃▂▄▂▂▂▁▂▃▂▇▃▂▂▄▂▂▁▄▃▃▃▃</td></tr></table><br/></div><div class=\"wandb-col\"><h3>Run summary:</h3><br/><table class=\"wandb\"><tr><td>mean_ep_reward</td><td>17.65175</td></tr><tr><td>reward</td><td>13</td></tr></table><br/></div></div>"
      ],
      "text/plain": [
       "<IPython.core.display.HTML object>"
      ]
     },
     "metadata": {},
     "output_type": "display_data"
    },
    {
     "data": {
      "text/html": [
       " View run <strong style=\"color:#cdcd00\">dashing-sweep-5</strong> at: <a href='https://wandb.ai/hugoderohanwillner/flappy_mc_sweep_v3/runs/qchiolga' target=\"_blank\">https://wandb.ai/hugoderohanwillner/flappy_mc_sweep_v3/runs/qchiolga</a><br/>Synced 6 W&B file(s), 0 media file(s), 0 artifact file(s) and 0 other file(s)"
      ],
      "text/plain": [
       "<IPython.core.display.HTML object>"
      ]
     },
     "metadata": {},
     "output_type": "display_data"
    },
    {
     "data": {
      "text/html": [
       "Find logs at: <code>./wandb/run-20240412_164913-qchiolga/logs</code>"
      ],
      "text/plain": [
       "<IPython.core.display.HTML object>"
      ]
     },
     "metadata": {},
     "output_type": "display_data"
    },
    {
     "name": "stderr",
     "output_type": "stream",
     "text": [
      "\u001b[34m\u001b[1mwandb\u001b[0m: Agent Starting Run: q6fenf6n with config:\n",
      "\u001b[34m\u001b[1mwandb\u001b[0m: \talpha: 0.04722888650828668\n",
      "\u001b[34m\u001b[1mwandb\u001b[0m: \teps_decay: 0.9999\n",
      "\u001b[34m\u001b[1mwandb\u001b[0m: \teps_start: 1\n",
      "\u001b[34m\u001b[1mwandb\u001b[0m: \tlambda_: 0.10810767977291054\n",
      "Failed to detect the name of this notebook, you can set it manually with the WANDB_NOTEBOOK_NAME environment variable to enable code saving.\n",
      "\u001b[34m\u001b[1mwandb\u001b[0m: \u001b[33mWARNING\u001b[0m Ignored wandb.init() arg project when running a sweep.\n"
     ]
    },
    {
     "data": {
      "text/html": [
       "wandb version 0.16.6 is available!  To upgrade, please run:\n",
       " $ pip install wandb --upgrade"
      ],
      "text/plain": [
       "<IPython.core.display.HTML object>"
      ]
     },
     "metadata": {},
     "output_type": "display_data"
    },
    {
     "data": {
      "text/html": [
       "Tracking run with wandb version 0.16.4"
      ],
      "text/plain": [
       "<IPython.core.display.HTML object>"
      ]
     },
     "metadata": {},
     "output_type": "display_data"
    },
    {
     "data": {
      "text/html": [
       "Run data is saved locally in <code>/Users/hugoderohanwillner/Documents/MSc AI/S2 Courses/RL/Personal Project/wandb/run-20240412_165011-q6fenf6n</code>"
      ],
      "text/plain": [
       "<IPython.core.display.HTML object>"
      ]
     },
     "metadata": {},
     "output_type": "display_data"
    },
    {
     "data": {
      "text/html": [
       "Syncing run <strong><a href='https://wandb.ai/hugoderohanwillner/flappy_mc_sweep_v3/runs/q6fenf6n' target=\"_blank\">hearty-sweep-6</a></strong> to <a href='https://wandb.ai/hugoderohanwillner/flappy_mc_sweep_v3' target=\"_blank\">Weights & Biases</a> (<a href='https://wandb.me/run' target=\"_blank\">docs</a>)<br/>Sweep page: <a href='https://wandb.ai/hugoderohanwillner/flappy_mc_sweep_v3/sweeps/fgbzgdlm' target=\"_blank\">https://wandb.ai/hugoderohanwillner/flappy_mc_sweep_v3/sweeps/fgbzgdlm</a>"
      ],
      "text/plain": [
       "<IPython.core.display.HTML object>"
      ]
     },
     "metadata": {},
     "output_type": "display_data"
    },
    {
     "data": {
      "text/html": [
       " View project at <a href='https://wandb.ai/hugoderohanwillner/flappy_mc_sweep_v3' target=\"_blank\">https://wandb.ai/hugoderohanwillner/flappy_mc_sweep_v3</a>"
      ],
      "text/plain": [
       "<IPython.core.display.HTML object>"
      ]
     },
     "metadata": {},
     "output_type": "display_data"
    },
    {
     "data": {
      "text/html": [
       " View sweep at <a href='https://wandb.ai/hugoderohanwillner/flappy_mc_sweep_v3/sweeps/fgbzgdlm' target=\"_blank\">https://wandb.ai/hugoderohanwillner/flappy_mc_sweep_v3/sweeps/fgbzgdlm</a>"
      ],
      "text/plain": [
       "<IPython.core.display.HTML object>"
      ]
     },
     "metadata": {},
     "output_type": "display_data"
    },
    {
     "data": {
      "text/html": [
       " View run at <a href='https://wandb.ai/hugoderohanwillner/flappy_mc_sweep_v3/runs/q6fenf6n' target=\"_blank\">https://wandb.ai/hugoderohanwillner/flappy_mc_sweep_v3/runs/q6fenf6n</a>"
      ],
      "text/plain": [
       "<IPython.core.display.HTML object>"
      ]
     },
     "metadata": {},
     "output_type": "display_data"
    },
    {
     "name": "stderr",
     "output_type": "stream",
     "text": [
      "100%|██████████| 8000/8000 [00:46<00:00, 172.22it/s]\n"
     ]
    },
    {
     "data": {
      "text/html": [
       "<style>\n",
       "    table.wandb td:nth-child(1) { padding: 0 10px; text-align: left ; width: auto;} td:nth-child(2) {text-align: left ; width: 100%}\n",
       "    .wandb-row { display: flex; flex-direction: row; flex-wrap: wrap; justify-content: flex-start; width: 100% }\n",
       "    .wandb-col { display: flex; flex-direction: column; flex-basis: 100%; flex: 1; padding: 10px; }\n",
       "    </style>\n",
       "<div class=\"wandb-row\"><div class=\"wandb-col\"><h3>Run history:</h3><br/><table class=\"wandb\"><tr><td>mean_ep_reward</td><td>▁</td></tr><tr><td>reward</td><td>▁▂▁▃▃▁▂▂▂▆▂▂▁▂▂▂▁▁▄▂▁▂▂▂▁▂▂▁▃▇▃▄▆▂▃▂▂█▂▃</td></tr></table><br/></div><div class=\"wandb-col\"><h3>Run summary:</h3><br/><table class=\"wandb\"><tr><td>mean_ep_reward</td><td>17.46175</td></tr><tr><td>reward</td><td>26</td></tr></table><br/></div></div>"
      ],
      "text/plain": [
       "<IPython.core.display.HTML object>"
      ]
     },
     "metadata": {},
     "output_type": "display_data"
    },
    {
     "data": {
      "text/html": [
       " View run <strong style=\"color:#cdcd00\">hearty-sweep-6</strong> at: <a href='https://wandb.ai/hugoderohanwillner/flappy_mc_sweep_v3/runs/q6fenf6n' target=\"_blank\">https://wandb.ai/hugoderohanwillner/flappy_mc_sweep_v3/runs/q6fenf6n</a><br/>Synced 6 W&B file(s), 0 media file(s), 0 artifact file(s) and 0 other file(s)"
      ],
      "text/plain": [
       "<IPython.core.display.HTML object>"
      ]
     },
     "metadata": {},
     "output_type": "display_data"
    },
    {
     "data": {
      "text/html": [
       "Find logs at: <code>./wandb/run-20240412_165011-q6fenf6n/logs</code>"
      ],
      "text/plain": [
       "<IPython.core.display.HTML object>"
      ]
     },
     "metadata": {},
     "output_type": "display_data"
    },
    {
     "name": "stderr",
     "output_type": "stream",
     "text": [
      "\u001b[34m\u001b[1mwandb\u001b[0m: Agent Starting Run: ei644kkc with config:\n",
      "\u001b[34m\u001b[1mwandb\u001b[0m: \talpha: 0.049763025290651894\n",
      "\u001b[34m\u001b[1mwandb\u001b[0m: \teps_decay: 0.999\n",
      "\u001b[34m\u001b[1mwandb\u001b[0m: \teps_start: 1\n",
      "\u001b[34m\u001b[1mwandb\u001b[0m: \tlambda_: 0.1741492355001743\n",
      "Failed to detect the name of this notebook, you can set it manually with the WANDB_NOTEBOOK_NAME environment variable to enable code saving.\n",
      "\u001b[34m\u001b[1mwandb\u001b[0m: \u001b[33mWARNING\u001b[0m Ignored wandb.init() arg project when running a sweep.\n"
     ]
    },
    {
     "data": {
      "text/html": [
       "wandb version 0.16.6 is available!  To upgrade, please run:\n",
       " $ pip install wandb --upgrade"
      ],
      "text/plain": [
       "<IPython.core.display.HTML object>"
      ]
     },
     "metadata": {},
     "output_type": "display_data"
    },
    {
     "data": {
      "text/html": [
       "Tracking run with wandb version 0.16.4"
      ],
      "text/plain": [
       "<IPython.core.display.HTML object>"
      ]
     },
     "metadata": {},
     "output_type": "display_data"
    },
    {
     "data": {
      "text/html": [
       "Run data is saved locally in <code>/Users/hugoderohanwillner/Documents/MSc AI/S2 Courses/RL/Personal Project/wandb/run-20240412_165109-ei644kkc</code>"
      ],
      "text/plain": [
       "<IPython.core.display.HTML object>"
      ]
     },
     "metadata": {},
     "output_type": "display_data"
    },
    {
     "data": {
      "text/html": [
       "Syncing run <strong><a href='https://wandb.ai/hugoderohanwillner/flappy_mc_sweep_v3/runs/ei644kkc' target=\"_blank\">effortless-sweep-7</a></strong> to <a href='https://wandb.ai/hugoderohanwillner/flappy_mc_sweep_v3' target=\"_blank\">Weights & Biases</a> (<a href='https://wandb.me/run' target=\"_blank\">docs</a>)<br/>Sweep page: <a href='https://wandb.ai/hugoderohanwillner/flappy_mc_sweep_v3/sweeps/fgbzgdlm' target=\"_blank\">https://wandb.ai/hugoderohanwillner/flappy_mc_sweep_v3/sweeps/fgbzgdlm</a>"
      ],
      "text/plain": [
       "<IPython.core.display.HTML object>"
      ]
     },
     "metadata": {},
     "output_type": "display_data"
    },
    {
     "data": {
      "text/html": [
       " View project at <a href='https://wandb.ai/hugoderohanwillner/flappy_mc_sweep_v3' target=\"_blank\">https://wandb.ai/hugoderohanwillner/flappy_mc_sweep_v3</a>"
      ],
      "text/plain": [
       "<IPython.core.display.HTML object>"
      ]
     },
     "metadata": {},
     "output_type": "display_data"
    },
    {
     "data": {
      "text/html": [
       " View sweep at <a href='https://wandb.ai/hugoderohanwillner/flappy_mc_sweep_v3/sweeps/fgbzgdlm' target=\"_blank\">https://wandb.ai/hugoderohanwillner/flappy_mc_sweep_v3/sweeps/fgbzgdlm</a>"
      ],
      "text/plain": [
       "<IPython.core.display.HTML object>"
      ]
     },
     "metadata": {},
     "output_type": "display_data"
    },
    {
     "data": {
      "text/html": [
       " View run at <a href='https://wandb.ai/hugoderohanwillner/flappy_mc_sweep_v3/runs/ei644kkc' target=\"_blank\">https://wandb.ai/hugoderohanwillner/flappy_mc_sweep_v3/runs/ei644kkc</a>"
      ],
      "text/plain": [
       "<IPython.core.display.HTML object>"
      ]
     },
     "metadata": {},
     "output_type": "display_data"
    },
    {
     "name": "stderr",
     "output_type": "stream",
     "text": [
      "100%|██████████| 8000/8000 [01:26<00:00, 92.23it/s] \n"
     ]
    },
    {
     "data": {
      "text/html": [
       "<style>\n",
       "    table.wandb td:nth-child(1) { padding: 0 10px; text-align: left ; width: auto;} td:nth-child(2) {text-align: left ; width: 100%}\n",
       "    .wandb-row { display: flex; flex-direction: row; flex-wrap: wrap; justify-content: flex-start; width: 100% }\n",
       "    .wandb-col { display: flex; flex-direction: column; flex-basis: 100%; flex: 1; padding: 10px; }\n",
       "    </style>\n",
       "<div class=\"wandb-row\"><div class=\"wandb-col\"><h3>Run history:</h3><br/><table class=\"wandb\"><tr><td>mean_ep_reward</td><td>▁</td></tr><tr><td>reward</td><td>▂▂▁▂▂▁▂▂▂▂▁▂▃▂▃▃▄▅▂▄▅▃▃▄▂▅▅▄▇▂▆▄▃▃▄▃▄▄█▄</td></tr></table><br/></div><div class=\"wandb-col\"><h3>Run summary:</h3><br/><table class=\"wandb\"><tr><td>mean_ep_reward</td><td>33.41712</td></tr><tr><td>reward</td><td>28</td></tr></table><br/></div></div>"
      ],
      "text/plain": [
       "<IPython.core.display.HTML object>"
      ]
     },
     "metadata": {},
     "output_type": "display_data"
    },
    {
     "data": {
      "text/html": [
       " View run <strong style=\"color:#cdcd00\">effortless-sweep-7</strong> at: <a href='https://wandb.ai/hugoderohanwillner/flappy_mc_sweep_v3/runs/ei644kkc' target=\"_blank\">https://wandb.ai/hugoderohanwillner/flappy_mc_sweep_v3/runs/ei644kkc</a><br/>Synced 6 W&B file(s), 0 media file(s), 0 artifact file(s) and 0 other file(s)"
      ],
      "text/plain": [
       "<IPython.core.display.HTML object>"
      ]
     },
     "metadata": {},
     "output_type": "display_data"
    },
    {
     "data": {
      "text/html": [
       "Find logs at: <code>./wandb/run-20240412_165109-ei644kkc/logs</code>"
      ],
      "text/plain": [
       "<IPython.core.display.HTML object>"
      ]
     },
     "metadata": {},
     "output_type": "display_data"
    },
    {
     "name": "stderr",
     "output_type": "stream",
     "text": [
      "\u001b[34m\u001b[1mwandb\u001b[0m: Agent Starting Run: ps131ctk with config:\n",
      "\u001b[34m\u001b[1mwandb\u001b[0m: \talpha: 0.05041435831179095\n",
      "\u001b[34m\u001b[1mwandb\u001b[0m: \teps_decay: 0.99\n",
      "\u001b[34m\u001b[1mwandb\u001b[0m: \teps_start: 1\n",
      "\u001b[34m\u001b[1mwandb\u001b[0m: \tlambda_: 0.2315236598205092\n",
      "Failed to detect the name of this notebook, you can set it manually with the WANDB_NOTEBOOK_NAME environment variable to enable code saving.\n",
      "\u001b[34m\u001b[1mwandb\u001b[0m: \u001b[33mWARNING\u001b[0m Ignored wandb.init() arg project when running a sweep.\n"
     ]
    },
    {
     "data": {
      "text/html": [
       "wandb version 0.16.6 is available!  To upgrade, please run:\n",
       " $ pip install wandb --upgrade"
      ],
      "text/plain": [
       "<IPython.core.display.HTML object>"
      ]
     },
     "metadata": {},
     "output_type": "display_data"
    },
    {
     "data": {
      "text/html": [
       "Tracking run with wandb version 0.16.4"
      ],
      "text/plain": [
       "<IPython.core.display.HTML object>"
      ]
     },
     "metadata": {},
     "output_type": "display_data"
    },
    {
     "data": {
      "text/html": [
       "Run data is saved locally in <code>/Users/hugoderohanwillner/Documents/MSc AI/S2 Courses/RL/Personal Project/wandb/run-20240412_165249-ps131ctk</code>"
      ],
      "text/plain": [
       "<IPython.core.display.HTML object>"
      ]
     },
     "metadata": {},
     "output_type": "display_data"
    },
    {
     "data": {
      "text/html": [
       "Syncing run <strong><a href='https://wandb.ai/hugoderohanwillner/flappy_mc_sweep_v3/runs/ps131ctk' target=\"_blank\">dauntless-sweep-8</a></strong> to <a href='https://wandb.ai/hugoderohanwillner/flappy_mc_sweep_v3' target=\"_blank\">Weights & Biases</a> (<a href='https://wandb.me/run' target=\"_blank\">docs</a>)<br/>Sweep page: <a href='https://wandb.ai/hugoderohanwillner/flappy_mc_sweep_v3/sweeps/fgbzgdlm' target=\"_blank\">https://wandb.ai/hugoderohanwillner/flappy_mc_sweep_v3/sweeps/fgbzgdlm</a>"
      ],
      "text/plain": [
       "<IPython.core.display.HTML object>"
      ]
     },
     "metadata": {},
     "output_type": "display_data"
    },
    {
     "data": {
      "text/html": [
       " View project at <a href='https://wandb.ai/hugoderohanwillner/flappy_mc_sweep_v3' target=\"_blank\">https://wandb.ai/hugoderohanwillner/flappy_mc_sweep_v3</a>"
      ],
      "text/plain": [
       "<IPython.core.display.HTML object>"
      ]
     },
     "metadata": {},
     "output_type": "display_data"
    },
    {
     "data": {
      "text/html": [
       " View sweep at <a href='https://wandb.ai/hugoderohanwillner/flappy_mc_sweep_v3/sweeps/fgbzgdlm' target=\"_blank\">https://wandb.ai/hugoderohanwillner/flappy_mc_sweep_v3/sweeps/fgbzgdlm</a>"
      ],
      "text/plain": [
       "<IPython.core.display.HTML object>"
      ]
     },
     "metadata": {},
     "output_type": "display_data"
    },
    {
     "data": {
      "text/html": [
       " View run at <a href='https://wandb.ai/hugoderohanwillner/flappy_mc_sweep_v3/runs/ps131ctk' target=\"_blank\">https://wandb.ai/hugoderohanwillner/flappy_mc_sweep_v3/runs/ps131ctk</a>"
      ],
      "text/plain": [
       "<IPython.core.display.HTML object>"
      ]
     },
     "metadata": {},
     "output_type": "display_data"
    },
    {
     "name": "stderr",
     "output_type": "stream",
     "text": [
      "100%|██████████| 8000/8000 [00:42<00:00, 188.51it/s]\n"
     ]
    },
    {
     "data": {
      "text/html": [
       "<style>\n",
       "    table.wandb td:nth-child(1) { padding: 0 10px; text-align: left ; width: auto;} td:nth-child(2) {text-align: left ; width: 100%}\n",
       "    .wandb-row { display: flex; flex-direction: row; flex-wrap: wrap; justify-content: flex-start; width: 100% }\n",
       "    .wandb-col { display: flex; flex-direction: column; flex-basis: 100%; flex: 1; padding: 10px; }\n",
       "    </style>\n",
       "<div class=\"wandb-row\"><div class=\"wandb-col\"><h3>Run history:</h3><br/><table class=\"wandb\"><tr><td>mean_ep_reward</td><td>▁</td></tr><tr><td>reward</td><td>▃▂▅▄▁▃▃▃▄▄▃▃▂▆▄▃▄▂▃▃▃▁▄▂▂▇▄▂▆▁▄▃▇▃▄▂▃▃█▆</td></tr></table><br/></div><div class=\"wandb-col\"><h3>Run summary:</h3><br/><table class=\"wandb\"><tr><td>mean_ep_reward</td><td>18.03237</td></tr><tr><td>reward</td><td>11</td></tr></table><br/></div></div>"
      ],
      "text/plain": [
       "<IPython.core.display.HTML object>"
      ]
     },
     "metadata": {},
     "output_type": "display_data"
    },
    {
     "data": {
      "text/html": [
       " View run <strong style=\"color:#cdcd00\">dauntless-sweep-8</strong> at: <a href='https://wandb.ai/hugoderohanwillner/flappy_mc_sweep_v3/runs/ps131ctk' target=\"_blank\">https://wandb.ai/hugoderohanwillner/flappy_mc_sweep_v3/runs/ps131ctk</a><br/>Synced 6 W&B file(s), 0 media file(s), 0 artifact file(s) and 0 other file(s)"
      ],
      "text/plain": [
       "<IPython.core.display.HTML object>"
      ]
     },
     "metadata": {},
     "output_type": "display_data"
    },
    {
     "data": {
      "text/html": [
       "Find logs at: <code>./wandb/run-20240412_165249-ps131ctk/logs</code>"
      ],
      "text/plain": [
       "<IPython.core.display.HTML object>"
      ]
     },
     "metadata": {},
     "output_type": "display_data"
    },
    {
     "name": "stderr",
     "output_type": "stream",
     "text": [
      "\u001b[34m\u001b[1mwandb\u001b[0m: Sweep Agent: Waiting for job.\n",
      "\u001b[34m\u001b[1mwandb\u001b[0m: Job received.\n",
      "\u001b[34m\u001b[1mwandb\u001b[0m: Agent Starting Run: hxzk4bz4 with config:\n",
      "\u001b[34m\u001b[1mwandb\u001b[0m: \talpha: 0.04550273376284127\n",
      "\u001b[34m\u001b[1mwandb\u001b[0m: \teps_decay: 0.99\n",
      "\u001b[34m\u001b[1mwandb\u001b[0m: \teps_start: 1\n",
      "\u001b[34m\u001b[1mwandb\u001b[0m: \tlambda_: 0.2775917677046802\n",
      "Failed to detect the name of this notebook, you can set it manually with the WANDB_NOTEBOOK_NAME environment variable to enable code saving.\n",
      "\u001b[34m\u001b[1mwandb\u001b[0m: \u001b[33mWARNING\u001b[0m Ignored wandb.init() arg project when running a sweep.\n"
     ]
    },
    {
     "data": {
      "text/html": [
       "wandb version 0.16.6 is available!  To upgrade, please run:\n",
       " $ pip install wandb --upgrade"
      ],
      "text/plain": [
       "<IPython.core.display.HTML object>"
      ]
     },
     "metadata": {},
     "output_type": "display_data"
    },
    {
     "data": {
      "text/html": [
       "Tracking run with wandb version 0.16.4"
      ],
      "text/plain": [
       "<IPython.core.display.HTML object>"
      ]
     },
     "metadata": {},
     "output_type": "display_data"
    },
    {
     "data": {
      "text/html": [
       "Run data is saved locally in <code>/Users/hugoderohanwillner/Documents/MSc AI/S2 Courses/RL/Personal Project/wandb/run-20240412_165352-hxzk4bz4</code>"
      ],
      "text/plain": [
       "<IPython.core.display.HTML object>"
      ]
     },
     "metadata": {},
     "output_type": "display_data"
    },
    {
     "data": {
      "text/html": [
       "Syncing run <strong><a href='https://wandb.ai/hugoderohanwillner/flappy_mc_sweep_v3/runs/hxzk4bz4' target=\"_blank\">eager-sweep-9</a></strong> to <a href='https://wandb.ai/hugoderohanwillner/flappy_mc_sweep_v3' target=\"_blank\">Weights & Biases</a> (<a href='https://wandb.me/run' target=\"_blank\">docs</a>)<br/>Sweep page: <a href='https://wandb.ai/hugoderohanwillner/flappy_mc_sweep_v3/sweeps/fgbzgdlm' target=\"_blank\">https://wandb.ai/hugoderohanwillner/flappy_mc_sweep_v3/sweeps/fgbzgdlm</a>"
      ],
      "text/plain": [
       "<IPython.core.display.HTML object>"
      ]
     },
     "metadata": {},
     "output_type": "display_data"
    },
    {
     "data": {
      "text/html": [
       " View project at <a href='https://wandb.ai/hugoderohanwillner/flappy_mc_sweep_v3' target=\"_blank\">https://wandb.ai/hugoderohanwillner/flappy_mc_sweep_v3</a>"
      ],
      "text/plain": [
       "<IPython.core.display.HTML object>"
      ]
     },
     "metadata": {},
     "output_type": "display_data"
    },
    {
     "data": {
      "text/html": [
       " View sweep at <a href='https://wandb.ai/hugoderohanwillner/flappy_mc_sweep_v3/sweeps/fgbzgdlm' target=\"_blank\">https://wandb.ai/hugoderohanwillner/flappy_mc_sweep_v3/sweeps/fgbzgdlm</a>"
      ],
      "text/plain": [
       "<IPython.core.display.HTML object>"
      ]
     },
     "metadata": {},
     "output_type": "display_data"
    },
    {
     "data": {
      "text/html": [
       " View run at <a href='https://wandb.ai/hugoderohanwillner/flappy_mc_sweep_v3/runs/hxzk4bz4' target=\"_blank\">https://wandb.ai/hugoderohanwillner/flappy_mc_sweep_v3/runs/hxzk4bz4</a>"
      ],
      "text/plain": [
       "<IPython.core.display.HTML object>"
      ]
     },
     "metadata": {},
     "output_type": "display_data"
    },
    {
     "name": "stderr",
     "output_type": "stream",
     "text": [
      "100%|██████████| 8000/8000 [00:38<00:00, 209.93it/s]\n"
     ]
    },
    {
     "data": {
      "text/html": [
       "<style>\n",
       "    table.wandb td:nth-child(1) { padding: 0 10px; text-align: left ; width: auto;} td:nth-child(2) {text-align: left ; width: 100%}\n",
       "    .wandb-row { display: flex; flex-direction: row; flex-wrap: wrap; justify-content: flex-start; width: 100% }\n",
       "    .wandb-col { display: flex; flex-direction: column; flex-basis: 100%; flex: 1; padding: 10px; }\n",
       "    </style>\n",
       "<div class=\"wandb-row\"><div class=\"wandb-col\"><h3>Run history:</h3><br/><table class=\"wandb\"><tr><td>mean_ep_reward</td><td>▁</td></tr><tr><td>reward</td><td>▃▃▃▂▃█▃▂▃▃▃▃▃▆▃▆▃▃▆▆█▃▃▂▂▃▂▃▆█▆█▃▃▃▆▃▁▃▂</td></tr></table><br/></div><div class=\"wandb-col\"><h3>Run summary:</h3><br/><table class=\"wandb\"><tr><td>mean_ep_reward</td><td>16.70962</td></tr><tr><td>reward</td><td>23</td></tr></table><br/></div></div>"
      ],
      "text/plain": [
       "<IPython.core.display.HTML object>"
      ]
     },
     "metadata": {},
     "output_type": "display_data"
    },
    {
     "data": {
      "text/html": [
       " View run <strong style=\"color:#cdcd00\">eager-sweep-9</strong> at: <a href='https://wandb.ai/hugoderohanwillner/flappy_mc_sweep_v3/runs/hxzk4bz4' target=\"_blank\">https://wandb.ai/hugoderohanwillner/flappy_mc_sweep_v3/runs/hxzk4bz4</a><br/>Synced 6 W&B file(s), 0 media file(s), 0 artifact file(s) and 0 other file(s)"
      ],
      "text/plain": [
       "<IPython.core.display.HTML object>"
      ]
     },
     "metadata": {},
     "output_type": "display_data"
    },
    {
     "data": {
      "text/html": [
       "Find logs at: <code>./wandb/run-20240412_165352-hxzk4bz4/logs</code>"
      ],
      "text/plain": [
       "<IPython.core.display.HTML object>"
      ]
     },
     "metadata": {},
     "output_type": "display_data"
    },
    {
     "name": "stderr",
     "output_type": "stream",
     "text": [
      "\u001b[34m\u001b[1mwandb\u001b[0m: Sweep Agent: Waiting for job.\n",
      "\u001b[34m\u001b[1mwandb\u001b[0m: Job received.\n",
      "\u001b[34m\u001b[1mwandb\u001b[0m: Agent Starting Run: ie5jyg5j with config:\n",
      "\u001b[34m\u001b[1mwandb\u001b[0m: \talpha: 0.0472423454204413\n",
      "\u001b[34m\u001b[1mwandb\u001b[0m: \teps_decay: 0.999\n",
      "\u001b[34m\u001b[1mwandb\u001b[0m: \teps_start: 1\n",
      "\u001b[34m\u001b[1mwandb\u001b[0m: \tlambda_: 0.06181320873124114\n",
      "Failed to detect the name of this notebook, you can set it manually with the WANDB_NOTEBOOK_NAME environment variable to enable code saving.\n",
      "\u001b[34m\u001b[1mwandb\u001b[0m: \u001b[33mWARNING\u001b[0m Ignored wandb.init() arg project when running a sweep.\n"
     ]
    },
    {
     "data": {
      "text/html": [
       "wandb version 0.16.6 is available!  To upgrade, please run:\n",
       " $ pip install wandb --upgrade"
      ],
      "text/plain": [
       "<IPython.core.display.HTML object>"
      ]
     },
     "metadata": {},
     "output_type": "display_data"
    },
    {
     "data": {
      "text/html": [
       "Tracking run with wandb version 0.16.4"
      ],
      "text/plain": [
       "<IPython.core.display.HTML object>"
      ]
     },
     "metadata": {},
     "output_type": "display_data"
    },
    {
     "data": {
      "text/html": [
       "Run data is saved locally in <code>/Users/hugoderohanwillner/Documents/MSc AI/S2 Courses/RL/Personal Project/wandb/run-20240412_165454-ie5jyg5j</code>"
      ],
      "text/plain": [
       "<IPython.core.display.HTML object>"
      ]
     },
     "metadata": {},
     "output_type": "display_data"
    },
    {
     "data": {
      "text/html": [
       "Syncing run <strong><a href='https://wandb.ai/hugoderohanwillner/flappy_mc_sweep_v3/runs/ie5jyg5j' target=\"_blank\">effortless-sweep-10</a></strong> to <a href='https://wandb.ai/hugoderohanwillner/flappy_mc_sweep_v3' target=\"_blank\">Weights & Biases</a> (<a href='https://wandb.me/run' target=\"_blank\">docs</a>)<br/>Sweep page: <a href='https://wandb.ai/hugoderohanwillner/flappy_mc_sweep_v3/sweeps/fgbzgdlm' target=\"_blank\">https://wandb.ai/hugoderohanwillner/flappy_mc_sweep_v3/sweeps/fgbzgdlm</a>"
      ],
      "text/plain": [
       "<IPython.core.display.HTML object>"
      ]
     },
     "metadata": {},
     "output_type": "display_data"
    },
    {
     "data": {
      "text/html": [
       " View project at <a href='https://wandb.ai/hugoderohanwillner/flappy_mc_sweep_v3' target=\"_blank\">https://wandb.ai/hugoderohanwillner/flappy_mc_sweep_v3</a>"
      ],
      "text/plain": [
       "<IPython.core.display.HTML object>"
      ]
     },
     "metadata": {},
     "output_type": "display_data"
    },
    {
     "data": {
      "text/html": [
       " View sweep at <a href='https://wandb.ai/hugoderohanwillner/flappy_mc_sweep_v3/sweeps/fgbzgdlm' target=\"_blank\">https://wandb.ai/hugoderohanwillner/flappy_mc_sweep_v3/sweeps/fgbzgdlm</a>"
      ],
      "text/plain": [
       "<IPython.core.display.HTML object>"
      ]
     },
     "metadata": {},
     "output_type": "display_data"
    },
    {
     "data": {
      "text/html": [
       " View run at <a href='https://wandb.ai/hugoderohanwillner/flappy_mc_sweep_v3/runs/ie5jyg5j' target=\"_blank\">https://wandb.ai/hugoderohanwillner/flappy_mc_sweep_v3/runs/ie5jyg5j</a>"
      ],
      "text/plain": [
       "<IPython.core.display.HTML object>"
      ]
     },
     "metadata": {},
     "output_type": "display_data"
    },
    {
     "name": "stderr",
     "output_type": "stream",
     "text": [
      "100%|██████████| 8000/8000 [00:56<00:00, 142.15it/s]\n"
     ]
    },
    {
     "data": {
      "text/html": [
       "<style>\n",
       "    table.wandb td:nth-child(1) { padding: 0 10px; text-align: left ; width: auto;} td:nth-child(2) {text-align: left ; width: 100%}\n",
       "    .wandb-row { display: flex; flex-direction: row; flex-wrap: wrap; justify-content: flex-start; width: 100% }\n",
       "    .wandb-col { display: flex; flex-direction: column; flex-basis: 100%; flex: 1; padding: 10px; }\n",
       "    </style>\n",
       "<div class=\"wandb-row\"><div class=\"wandb-col\"><h3>Run history:</h3><br/><table class=\"wandb\"><tr><td>mean_ep_reward</td><td>▁</td></tr><tr><td>reward</td><td>▁▂▁▂▂▁▂▂▃▁▂▁▃▃▂▁▂▂▃▁▆▄▂▃▄▃▃▁▂▂█▄▂▃▂▁▂▆▄▇</td></tr></table><br/></div><div class=\"wandb-col\"><h3>Run summary:</h3><br/><table class=\"wandb\"><tr><td>mean_ep_reward</td><td>21.25163</td></tr><tr><td>reward</td><td>10</td></tr></table><br/></div></div>"
      ],
      "text/plain": [
       "<IPython.core.display.HTML object>"
      ]
     },
     "metadata": {},
     "output_type": "display_data"
    },
    {
     "data": {
      "text/html": [
       " View run <strong style=\"color:#cdcd00\">effortless-sweep-10</strong> at: <a href='https://wandb.ai/hugoderohanwillner/flappy_mc_sweep_v3/runs/ie5jyg5j' target=\"_blank\">https://wandb.ai/hugoderohanwillner/flappy_mc_sweep_v3/runs/ie5jyg5j</a><br/>Synced 6 W&B file(s), 0 media file(s), 0 artifact file(s) and 0 other file(s)"
      ],
      "text/plain": [
       "<IPython.core.display.HTML object>"
      ]
     },
     "metadata": {},
     "output_type": "display_data"
    },
    {
     "data": {
      "text/html": [
       "Find logs at: <code>./wandb/run-20240412_165454-ie5jyg5j/logs</code>"
      ],
      "text/plain": [
       "<IPython.core.display.HTML object>"
      ]
     },
     "metadata": {},
     "output_type": "display_data"
    }
   ],
   "source": [
    "# SARSA PARAM SWEEP\n",
    "\n",
    "wandb.login()\n",
    "\n",
    "# 1: Define objective/training function\n",
    "def objective(config):\n",
    "    # Hardcoded:\n",
    "    num_episodes = 8000\n",
    "    eps_min = 0\n",
    "    max_ep_length = 500\n",
    "    gamma = 1\n",
    "    wandb_run_tracking = False\n",
    "    wandb_sweep = True\n",
    "\n",
    "    # From config\n",
    "    alpha = config.alpha\n",
    "    eps_start = config.eps_start\n",
    "    eps_decay = config.eps_decay\n",
    "    lambda_ = config.lambda_\n",
    "\n",
    "    # Setup environment\n",
    "    env = gym.make('TextFlappyBird-v0', height = 15, width = 20, pipe_gap = 4)\n",
    "\n",
    "    # Run training\n",
    "    policy, Q, mean_ep_reward = sarsa_lambda_train(env, num_episodes, alpha, lambda_, gamma=gamma, eps_start=eps_start, eps_decay=eps_decay, eps_min=eps_min, wandb_tracking=wandb_run_tracking, wandb_sweep=wandb_sweep, max_ep_length = max_ep_length)\n",
    "\n",
    "    return mean_ep_reward\n",
    "\n",
    "def main():\n",
    "    wandb.init(project=\"flappy_mc_sweep_v3\")\n",
    "    mean_ep_reward = objective(wandb.config)\n",
    "    wandb.log({\"mean_ep_reward\": mean_ep_reward})\n",
    "\n",
    "# 2: Define the search space\n",
    "sweep_configuration = {\n",
    "    \"method\": \"bayes\",\n",
    "    \"metric\": {\"goal\": \"maximize\", \"name\": \"mean_ep_reward\"},\n",
    "    \"parameters\": {\n",
    "        \"alpha\": {\"max\": 0.1, \"min\": 0.001},\n",
    "        \"eps_start\": {\"values\": [1, 0.75, 0.5]},\n",
    "        \"eps_decay\": {\"values\": [0.999, 0.99, 0.9]},\n",
    "        \"lambda_\": {\"max\": 1.0, \"min\": 0.01},\n",
    "    },\n",
    "}\n",
    "\n",
    "# 3: Start the sweep\n",
    "sweep_id = wandb.sweep(sweep=sweep_configuration, project=\"flappy_mc_sweep_v3\")\n",
    "\n",
    "wandb.agent(sweep_id, function=main, count=10)"
   ]
  }
 ],
 "metadata": {
  "kernelspec": {
   "display_name": "MSc_RL",
   "language": "python",
   "name": "python3"
  },
  "language_info": {
   "codemirror_mode": {
    "name": "ipython",
    "version": 3
   },
   "file_extension": ".py",
   "mimetype": "text/x-python",
   "name": "python",
   "nbconvert_exporter": "python",
   "pygments_lexer": "ipython3",
   "version": "3.9.18"
  }
 },
 "nbformat": 4,
 "nbformat_minor": 2
}
